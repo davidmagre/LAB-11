{
 "cells": [
  {
   "cell_type": "markdown",
   "metadata": {},
   "source": [
    "# PANDAS LAB - Continuation of the EuroLeague Case Study\n",
    "## Let's compare the competitions!\n",
    "\n",
    "![](https://eurospects.com/wp-content/uploads/2018/10/eurocupeuroleague.png)\n",
    "\n",
    "First of all, we must \n",
    "\n",
    "- Import the actual.csv Dataset. This dataset will be the CSV of the result obtained in class.\n",
    "- Import ec23.xlsx. This dataset correspond to the import the dataset corresponding to Eurocup. Don't worry, this time the Excel will be cleaned (almost)\n",
    "\n",
    "<details>\n",
    "    <summary> Lab results </summary>\n",
    "\n",
    "![](https://media1.tenor.com/m/lx2WSGRk8bcAAAAC/pulp-fiction-john-travolta.gif)\n",
    "\n",
    "PERO QUÉ OS HABÉIS CREÍDO\n",
    "\n",
    "</details>"
   ]
  },
  {
   "cell_type": "code",
   "execution_count": 1,
   "metadata": {},
   "outputs": [
    {
     "name": "stdout",
     "output_type": "stream",
     "text": [
      "Requirement already satisfied: openpyxl in c:\\users\\usuario_1\\anaconda3\\envs\\ironhack\\lib\\site-packages (3.1.2)\n",
      "Requirement already satisfied: et-xmlfile in c:\\users\\usuario_1\\anaconda3\\envs\\ironhack\\lib\\site-packages (from openpyxl) (1.1.0)\n",
      "Note: you may need to restart the kernel to use updated packages.\n"
     ]
    }
   ],
   "source": [
    "pip install openpyxl"
   ]
  },
  {
   "cell_type": "code",
   "execution_count": 2,
   "metadata": {},
   "outputs": [
    {
     "name": "stderr",
     "output_type": "stream",
     "text": [
      "C:\\Users\\Usuario_1\\AppData\\Local\\Temp\\ipykernel_9800\\2162656668.py:1: DeprecationWarning: \n",
      "Pyarrow will become a required dependency of pandas in the next major release of pandas (pandas 3.0),\n",
      "(to allow more performant data types, such as the Arrow string type, and better interoperability with other libraries)\n",
      "but was not found to be installed on your system.\n",
      "If this would cause problems for you,\n",
      "please provide us feedback at https://github.com/pandas-dev/pandas/issues/54466\n",
      "        \n",
      "  import pandas as pd\n"
     ]
    }
   ],
   "source": [
    "import pandas as pd\n",
    "import numpy as np"
   ]
  },
  {
   "cell_type": "code",
   "execution_count": 6,
   "metadata": {},
   "outputs": [],
   "source": [
    "elteams=pd.read_csv(\"actual.csv\")\n",
    "ecteams=pd.read_excel(\"ec2023.xlsx\", index_col=False)"
   ]
  },
  {
   "cell_type": "markdown",
   "metadata": {},
   "source": [
    "Let's analyze the EuroCup Dataframe! Is there any cleaning needed? Remember the basics: \n",
    "- Drop Null Values\n",
    "- Drop Duplicate Rows\n",
    "- Drop Strange Columns if you see any"
   ]
  },
  {
   "cell_type": "code",
   "execution_count": 7,
   "metadata": {},
   "outputs": [
    {
     "data": {
      "text/html": [
       "<div>\n",
       "<style scoped>\n",
       "    .dataframe tbody tr th:only-of-type {\n",
       "        vertical-align: middle;\n",
       "    }\n",
       "\n",
       "    .dataframe tbody tr th {\n",
       "        vertical-align: top;\n",
       "    }\n",
       "\n",
       "    .dataframe thead th {\n",
       "        text-align: right;\n",
       "    }\n",
       "</style>\n",
       "<table border=\"1\" class=\"dataframe\">\n",
       "  <thead>\n",
       "    <tr style=\"text-align: right;\">\n",
       "      <th></th>\n",
       "      <th>Unnamed: 0</th>\n",
       "      <th>fecha</th>\n",
       "      <th>ronda</th>\n",
       "      <th>local</th>\n",
       "      <th>visitante</th>\n",
       "      <th>localscore</th>\n",
       "      <th>roadscore</th>\n",
       "      <th>Winner</th>\n",
       "      <th>Ganador</th>\n",
       "      <th>plusminus</th>\n",
       "    </tr>\n",
       "  </thead>\n",
       "  <tbody>\n",
       "    <tr>\n",
       "      <th>117</th>\n",
       "      <td>115</td>\n",
       "      <td>2023-11-08T18:00:00</td>\n",
       "      <td>6</td>\n",
       "      <td>U-BT Cluj-Napoca</td>\n",
       "      <td>ratiopharm Ulm</td>\n",
       "      <td>86</td>\n",
       "      <td>75.0</td>\n",
       "      <td>Local</td>\n",
       "      <td>86.0</td>\n",
       "      <td>11.0</td>\n",
       "    </tr>\n",
       "  </tbody>\n",
       "</table>\n",
       "</div>"
      ],
      "text/plain": [
       "     Unnamed: 0                fecha  ronda             local       visitante  \\\n",
       "117         115  2023-11-08T18:00:00      6  U-BT Cluj-Napoca  ratiopharm Ulm   \n",
       "\n",
       "     localscore  roadscore Winner  Ganador  plusminus  \n",
       "117          86       75.0  Local     86.0       11.0  "
      ]
     },
     "execution_count": 7,
     "metadata": {},
     "output_type": "execute_result"
    }
   ],
   "source": [
    "# Your Code here: \n",
    "ecteams.sample()"
   ]
  },
  {
   "cell_type": "code",
   "execution_count": 8,
   "metadata": {},
   "outputs": [
    {
     "data": {
      "text/plain": [
       "(173, 10)"
      ]
     },
     "execution_count": 8,
     "metadata": {},
     "output_type": "execute_result"
    }
   ],
   "source": [
    "ecteams.shape"
   ]
  },
  {
   "cell_type": "code",
   "execution_count": 9,
   "metadata": {},
   "outputs": [
    {
     "name": "stdout",
     "output_type": "stream",
     "text": [
      "<class 'pandas.core.frame.DataFrame'>\n",
      "RangeIndex: 173 entries, 0 to 172\n",
      "Data columns (total 10 columns):\n",
      " #   Column      Non-Null Count  Dtype  \n",
      "---  ------      --------------  -----  \n",
      " 0   Unnamed: 0  173 non-null    int64  \n",
      " 1   fecha       173 non-null    object \n",
      " 2   ronda       173 non-null    int64  \n",
      " 3   local       173 non-null    object \n",
      " 4   visitante   173 non-null    object \n",
      " 5   localscore  173 non-null    int64  \n",
      " 6   roadscore   172 non-null    float64\n",
      " 7   Winner      173 non-null    object \n",
      " 8   Ganador     172 non-null    float64\n",
      " 9   plusminus   172 non-null    float64\n",
      "dtypes: float64(3), int64(3), object(4)\n",
      "memory usage: 13.6+ KB\n"
     ]
    }
   ],
   "source": [
    "ecteams.info()"
   ]
  },
  {
   "cell_type": "code",
   "execution_count": 10,
   "metadata": {},
   "outputs": [],
   "source": [
    "ecteams.fecha=pd.to_datetime(ecteams.fecha)"
   ]
  },
  {
   "cell_type": "code",
   "execution_count": 11,
   "metadata": {},
   "outputs": [],
   "source": [
    "ecteams['Dia'] = ecteams['fecha'].map(lambda x: str(x)[:10])\n",
    "ecteams['Hora'] = ecteams['fecha'].map(lambda x: str(x)[11:])\n",
    "ecteams['Dia'] = ecteams['fecha'].dt.strftime('%Y-%m-%d')\n",
    "ecteams['Hora'] = ecteams['fecha'].dt.strftime('%H:%M:%S')"
   ]
  },
  {
   "cell_type": "code",
   "execution_count": 12,
   "metadata": {},
   "outputs": [],
   "source": [
    "ecteams.drop(columns='fecha', inplace=True)"
   ]
  },
  {
   "cell_type": "code",
   "execution_count": 13,
   "metadata": {},
   "outputs": [
    {
     "data": {
      "text/html": [
       "<div>\n",
       "<style scoped>\n",
       "    .dataframe tbody tr th:only-of-type {\n",
       "        vertical-align: middle;\n",
       "    }\n",
       "\n",
       "    .dataframe tbody tr th {\n",
       "        vertical-align: top;\n",
       "    }\n",
       "\n",
       "    .dataframe thead th {\n",
       "        text-align: right;\n",
       "    }\n",
       "</style>\n",
       "<table border=\"1\" class=\"dataframe\">\n",
       "  <thead>\n",
       "    <tr style=\"text-align: right;\">\n",
       "      <th></th>\n",
       "      <th>Unnamed: 0</th>\n",
       "      <th>ronda</th>\n",
       "      <th>local</th>\n",
       "      <th>visitante</th>\n",
       "      <th>localscore</th>\n",
       "      <th>roadscore</th>\n",
       "      <th>Winner</th>\n",
       "      <th>Ganador</th>\n",
       "      <th>plusminus</th>\n",
       "      <th>Dia</th>\n",
       "      <th>Hora</th>\n",
       "    </tr>\n",
       "  </thead>\n",
       "  <tbody>\n",
       "    <tr>\n",
       "      <th>72</th>\n",
       "      <td>72</td>\n",
       "      <td>10</td>\n",
       "      <td>Dolomiti Energia Trento</td>\n",
       "      <td>ratiopharm Ulm</td>\n",
       "      <td>83</td>\n",
       "      <td>85.0</td>\n",
       "      <td>Visitante</td>\n",
       "      <td>85.0</td>\n",
       "      <td>-2.0</td>\n",
       "      <td>2023-12-06</td>\n",
       "      <td>20:00:00</td>\n",
       "    </tr>\n",
       "  </tbody>\n",
       "</table>\n",
       "</div>"
      ],
      "text/plain": [
       "    Unnamed: 0  ronda                    local       visitante  localscore  \\\n",
       "72          72     10  Dolomiti Energia Trento  ratiopharm Ulm          83   \n",
       "\n",
       "    roadscore     Winner  Ganador  plusminus         Dia      Hora  \n",
       "72       85.0  Visitante     85.0       -2.0  2023-12-06  20:00:00  "
      ]
     },
     "execution_count": 13,
     "metadata": {},
     "output_type": "execute_result"
    }
   ],
   "source": [
    "ecteams.sample()"
   ]
  },
  {
   "cell_type": "code",
   "execution_count": 14,
   "metadata": {},
   "outputs": [],
   "source": [
    "ecteams['Competition']='Eurocup'\n",
    "ecteams['Phase']='Regular Season'"
   ]
  },
  {
   "cell_type": "code",
   "execution_count": 15,
   "metadata": {},
   "outputs": [],
   "source": [
    "ecteams.drop(columns='Unnamed: 0', inplace=True)"
   ]
  },
  {
   "cell_type": "code",
   "execution_count": 16,
   "metadata": {},
   "outputs": [
    {
     "data": {
      "text/html": [
       "<div>\n",
       "<style scoped>\n",
       "    .dataframe tbody tr th:only-of-type {\n",
       "        vertical-align: middle;\n",
       "    }\n",
       "\n",
       "    .dataframe tbody tr th {\n",
       "        vertical-align: top;\n",
       "    }\n",
       "\n",
       "    .dataframe thead th {\n",
       "        text-align: right;\n",
       "    }\n",
       "</style>\n",
       "<table border=\"1\" class=\"dataframe\">\n",
       "  <thead>\n",
       "    <tr style=\"text-align: right;\">\n",
       "      <th></th>\n",
       "      <th>ronda</th>\n",
       "      <th>local</th>\n",
       "      <th>visitante</th>\n",
       "      <th>localscore</th>\n",
       "      <th>roadscore</th>\n",
       "      <th>Winner</th>\n",
       "      <th>Ganador</th>\n",
       "      <th>plusminus</th>\n",
       "      <th>Dia</th>\n",
       "      <th>Hora</th>\n",
       "      <th>Competition</th>\n",
       "      <th>Phase</th>\n",
       "    </tr>\n",
       "  </thead>\n",
       "  <tbody>\n",
       "    <tr>\n",
       "      <th>71</th>\n",
       "      <td>10</td>\n",
       "      <td>Dreamland Gran Canaria</td>\n",
       "      <td>Aris Midea Thessaloniki</td>\n",
       "      <td>93</td>\n",
       "      <td>65.0</td>\n",
       "      <td>Local</td>\n",
       "      <td>93.0</td>\n",
       "      <td>28.0</td>\n",
       "      <td>2023-12-06</td>\n",
       "      <td>21:00:00</td>\n",
       "      <td>Eurocup</td>\n",
       "      <td>Regular Season</td>\n",
       "    </tr>\n",
       "  </tbody>\n",
       "</table>\n",
       "</div>"
      ],
      "text/plain": [
       "    ronda                   local                visitante  localscore  \\\n",
       "71     10  Dreamland Gran Canaria  Aris Midea Thessaloniki          93   \n",
       "\n",
       "    roadscore Winner  Ganador  plusminus         Dia      Hora Competition  \\\n",
       "71       65.0  Local     93.0       28.0  2023-12-06  21:00:00     Eurocup   \n",
       "\n",
       "             Phase  \n",
       "71  Regular Season  "
      ]
     },
     "execution_count": 16,
     "metadata": {},
     "output_type": "execute_result"
    }
   ],
   "source": [
    "ecteams.sample()"
   ]
  },
  {
   "cell_type": "code",
   "execution_count": 17,
   "metadata": {},
   "outputs": [],
   "source": [
    "ec_teams = ecteams.loc[:, ['Competition', 'Phase', 'ronda', 'Dia', 'Hora', 'local', 'visitante', 'localscore', 'roadscore','plusminus','Winner','Ganador' ]]"
   ]
  },
  {
   "cell_type": "code",
   "execution_count": 18,
   "metadata": {},
   "outputs": [],
   "source": [
    "ec_teams.sort_values(['ronda', 'Dia', 'Hora'], inplace=True)"
   ]
  },
  {
   "cell_type": "code",
   "execution_count": 19,
   "metadata": {},
   "outputs": [
    {
     "data": {
      "text/html": [
       "<div>\n",
       "<style scoped>\n",
       "    .dataframe tbody tr th:only-of-type {\n",
       "        vertical-align: middle;\n",
       "    }\n",
       "\n",
       "    .dataframe tbody tr th {\n",
       "        vertical-align: top;\n",
       "    }\n",
       "\n",
       "    .dataframe thead th {\n",
       "        text-align: right;\n",
       "    }\n",
       "</style>\n",
       "<table border=\"1\" class=\"dataframe\">\n",
       "  <thead>\n",
       "    <tr style=\"text-align: right;\">\n",
       "      <th></th>\n",
       "      <th>Competition</th>\n",
       "      <th>Phase</th>\n",
       "      <th>ronda</th>\n",
       "      <th>Dia</th>\n",
       "      <th>Hora</th>\n",
       "      <th>local</th>\n",
       "      <th>visitante</th>\n",
       "      <th>localscore</th>\n",
       "      <th>roadscore</th>\n",
       "      <th>plusminus</th>\n",
       "      <th>Winner</th>\n",
       "      <th>Ganador</th>\n",
       "    </tr>\n",
       "  </thead>\n",
       "  <tbody>\n",
       "    <tr>\n",
       "      <th>172</th>\n",
       "      <td>Eurocup</td>\n",
       "      <td>Regular Season</td>\n",
       "      <td>1</td>\n",
       "      <td>2023-10-03</td>\n",
       "      <td>19:00:00</td>\n",
       "      <td>Hapoel Shlomo Tel Aviv</td>\n",
       "      <td>Cedevita Olimpija Ljubljana</td>\n",
       "      <td>100</td>\n",
       "      <td>73.0</td>\n",
       "      <td>27.0</td>\n",
       "      <td>Local</td>\n",
       "      <td>100.0</td>\n",
       "    </tr>\n",
       "    <tr>\n",
       "      <th>171</th>\n",
       "      <td>Eurocup</td>\n",
       "      <td>Regular Season</td>\n",
       "      <td>1</td>\n",
       "      <td>2023-10-03</td>\n",
       "      <td>19:30:00</td>\n",
       "      <td>ratiopharm Ulm</td>\n",
       "      <td>Dolomiti Energia Trento</td>\n",
       "      <td>80</td>\n",
       "      <td>70.0</td>\n",
       "      <td>10.0</td>\n",
       "      <td>Local</td>\n",
       "      <td>80.0</td>\n",
       "    </tr>\n",
       "    <tr>\n",
       "      <th>170</th>\n",
       "      <td>Eurocup</td>\n",
       "      <td>Regular Season</td>\n",
       "      <td>1</td>\n",
       "      <td>2023-10-03</td>\n",
       "      <td>20:30:00</td>\n",
       "      <td>Paris Basketball</td>\n",
       "      <td>Wolves Vilnius</td>\n",
       "      <td>105</td>\n",
       "      <td>78.0</td>\n",
       "      <td>27.0</td>\n",
       "      <td>Local</td>\n",
       "      <td>105.0</td>\n",
       "    </tr>\n",
       "    <tr>\n",
       "      <th>168</th>\n",
       "      <td>Eurocup</td>\n",
       "      <td>Regular Season</td>\n",
       "      <td>1</td>\n",
       "      <td>2023-10-04</td>\n",
       "      <td>18:00:00</td>\n",
       "      <td>U-BT Cluj-Napoca</td>\n",
       "      <td>Turk Telekom Ankara</td>\n",
       "      <td>80</td>\n",
       "      <td>71.0</td>\n",
       "      <td>9.0</td>\n",
       "      <td>Local</td>\n",
       "      <td>80.0</td>\n",
       "    </tr>\n",
       "    <tr>\n",
       "      <th>169</th>\n",
       "      <td>Eurocup</td>\n",
       "      <td>Regular Season</td>\n",
       "      <td>1</td>\n",
       "      <td>2023-10-04</td>\n",
       "      <td>18:00:00</td>\n",
       "      <td>Prometey Slobozhanske</td>\n",
       "      <td>Veolia Towers Hamburg</td>\n",
       "      <td>97</td>\n",
       "      <td>77.0</td>\n",
       "      <td>20.0</td>\n",
       "      <td>Local</td>\n",
       "      <td>97.0</td>\n",
       "    </tr>\n",
       "  </tbody>\n",
       "</table>\n",
       "</div>"
      ],
      "text/plain": [
       "    Competition           Phase  ronda         Dia      Hora  \\\n",
       "172     Eurocup  Regular Season      1  2023-10-03  19:00:00   \n",
       "171     Eurocup  Regular Season      1  2023-10-03  19:30:00   \n",
       "170     Eurocup  Regular Season      1  2023-10-03  20:30:00   \n",
       "168     Eurocup  Regular Season      1  2023-10-04  18:00:00   \n",
       "169     Eurocup  Regular Season      1  2023-10-04  18:00:00   \n",
       "\n",
       "                      local                    visitante  localscore  \\\n",
       "172  Hapoel Shlomo Tel Aviv  Cedevita Olimpija Ljubljana         100   \n",
       "171          ratiopharm Ulm      Dolomiti Energia Trento          80   \n",
       "170        Paris Basketball               Wolves Vilnius         105   \n",
       "168        U-BT Cluj-Napoca          Turk Telekom Ankara          80   \n",
       "169   Prometey Slobozhanske        Veolia Towers Hamburg          97   \n",
       "\n",
       "     roadscore  plusminus Winner  Ganador  \n",
       "172       73.0       27.0  Local    100.0  \n",
       "171       70.0       10.0  Local     80.0  \n",
       "170       78.0       27.0  Local    105.0  \n",
       "168       71.0        9.0  Local     80.0  \n",
       "169       77.0       20.0  Local     97.0  "
      ]
     },
     "execution_count": 19,
     "metadata": {},
     "output_type": "execute_result"
    }
   ],
   "source": [
    "ec_teams.head()"
   ]
  },
  {
   "cell_type": "code",
   "execution_count": 20,
   "metadata": {},
   "outputs": [
    {
     "data": {
      "text/plain": [
       "Competition    0\n",
       "Phase          0\n",
       "ronda          0\n",
       "Dia            0\n",
       "Hora           0\n",
       "local          0\n",
       "visitante      0\n",
       "localscore     0\n",
       "roadscore      1\n",
       "plusminus      1\n",
       "Winner         0\n",
       "Ganador        1\n",
       "dtype: int64"
      ]
     },
     "execution_count": 20,
     "metadata": {},
     "output_type": "execute_result"
    }
   ],
   "source": [
    "ec_teams.isna().sum()"
   ]
  },
  {
   "cell_type": "code",
   "execution_count": 21,
   "metadata": {},
   "outputs": [],
   "source": [
    "ec_teams_nd = ec_teams.dropna()"
   ]
  },
  {
   "cell_type": "code",
   "execution_count": 22,
   "metadata": {},
   "outputs": [
    {
     "data": {
      "text/plain": [
       "Competition    0\n",
       "Phase          0\n",
       "ronda          0\n",
       "Dia            0\n",
       "Hora           0\n",
       "local          0\n",
       "visitante      0\n",
       "localscore     0\n",
       "roadscore      0\n",
       "plusminus      0\n",
       "Winner         0\n",
       "Ganador        0\n",
       "dtype: int64"
      ]
     },
     "execution_count": 22,
     "metadata": {},
     "output_type": "execute_result"
    }
   ],
   "source": [
    "ec_teams_nd.isna().sum()"
   ]
  },
  {
   "cell_type": "code",
   "execution_count": 23,
   "metadata": {},
   "outputs": [
    {
     "data": {
      "text/plain": [
       "(172, 12)"
      ]
     },
     "execution_count": 23,
     "metadata": {},
     "output_type": "execute_result"
    }
   ],
   "source": [
    "ec_teams_nd.shape"
   ]
  },
  {
   "cell_type": "code",
   "execution_count": 24,
   "metadata": {},
   "outputs": [],
   "source": [
    "duplicates = ec_teams_nd[ec_teams_nd.duplicated()]"
   ]
  },
  {
   "cell_type": "code",
   "execution_count": 25,
   "metadata": {},
   "outputs": [
    {
     "data": {
      "text/html": [
       "<div>\n",
       "<style scoped>\n",
       "    .dataframe tbody tr th:only-of-type {\n",
       "        vertical-align: middle;\n",
       "    }\n",
       "\n",
       "    .dataframe tbody tr th {\n",
       "        vertical-align: top;\n",
       "    }\n",
       "\n",
       "    .dataframe thead th {\n",
       "        text-align: right;\n",
       "    }\n",
       "</style>\n",
       "<table border=\"1\" class=\"dataframe\">\n",
       "  <thead>\n",
       "    <tr style=\"text-align: right;\">\n",
       "      <th></th>\n",
       "      <th>Competition</th>\n",
       "      <th>Phase</th>\n",
       "      <th>ronda</th>\n",
       "      <th>Dia</th>\n",
       "      <th>Hora</th>\n",
       "      <th>local</th>\n",
       "      <th>visitante</th>\n",
       "      <th>localscore</th>\n",
       "      <th>roadscore</th>\n",
       "      <th>plusminus</th>\n",
       "      <th>Winner</th>\n",
       "      <th>Ganador</th>\n",
       "    </tr>\n",
       "  </thead>\n",
       "  <tbody>\n",
       "    <tr>\n",
       "      <th>99</th>\n",
       "      <td>Eurocup</td>\n",
       "      <td>Regular Season</td>\n",
       "      <td>8</td>\n",
       "      <td>2023-11-21</td>\n",
       "      <td>19:30:00</td>\n",
       "      <td>Mincidelice JL Bourg en Bresse</td>\n",
       "      <td>Turk Telekom Ankara</td>\n",
       "      <td>86</td>\n",
       "      <td>67.0</td>\n",
       "      <td>19.0</td>\n",
       "      <td>Local</td>\n",
       "      <td>86.0</td>\n",
       "    </tr>\n",
       "    <tr>\n",
       "      <th>80</th>\n",
       "      <td>Eurocup</td>\n",
       "      <td>Regular Season</td>\n",
       "      <td>10</td>\n",
       "      <td>2023-12-05</td>\n",
       "      <td>19:30:00</td>\n",
       "      <td>Veolia Towers Hamburg</td>\n",
       "      <td>Prometey Slobozhanske</td>\n",
       "      <td>83</td>\n",
       "      <td>97.0</td>\n",
       "      <td>-14.0</td>\n",
       "      <td>Visitante</td>\n",
       "      <td>97.0</td>\n",
       "    </tr>\n",
       "  </tbody>\n",
       "</table>\n",
       "</div>"
      ],
      "text/plain": [
       "   Competition           Phase  ronda         Dia      Hora  \\\n",
       "99     Eurocup  Regular Season      8  2023-11-21  19:30:00   \n",
       "80     Eurocup  Regular Season     10  2023-12-05  19:30:00   \n",
       "\n",
       "                             local              visitante  localscore  \\\n",
       "99  Mincidelice JL Bourg en Bresse    Turk Telekom Ankara          86   \n",
       "80           Veolia Towers Hamburg  Prometey Slobozhanske          83   \n",
       "\n",
       "    roadscore  plusminus     Winner  Ganador  \n",
       "99       67.0       19.0      Local     86.0  \n",
       "80       97.0      -14.0  Visitante     97.0  "
      ]
     },
     "execution_count": 25,
     "metadata": {},
     "output_type": "execute_result"
    }
   ],
   "source": [
    "duplicates"
   ]
  },
  {
   "cell_type": "code",
   "execution_count": 26,
   "metadata": {},
   "outputs": [],
   "source": [
    "ec_teams_nd_final = ec_teams_nd.drop_duplicates()"
   ]
  },
  {
   "cell_type": "code",
   "execution_count": 27,
   "metadata": {},
   "outputs": [
    {
     "data": {
      "text/plain": [
       "(170, 12)"
      ]
     },
     "execution_count": 27,
     "metadata": {},
     "output_type": "execute_result"
    }
   ],
   "source": [
    "ec_teams_nd_final.shape"
   ]
  },
  {
   "cell_type": "code",
   "execution_count": 28,
   "metadata": {},
   "outputs": [
    {
     "name": "stderr",
     "output_type": "stream",
     "text": [
      "C:\\Users\\Usuario_1\\AppData\\Local\\Temp\\ipykernel_9800\\3086154621.py:1: SettingWithCopyWarning: \n",
      "A value is trying to be set on a copy of a slice from a DataFrame.\n",
      "Try using .loc[row_indexer,col_indexer] = value instead\n",
      "\n",
      "See the caveats in the documentation: https://pandas.pydata.org/pandas-docs/stable/user_guide/indexing.html#returning-a-view-versus-a-copy\n",
      "  ec_teams_nd_final['roadscore'] = ec_teams_nd_final['roadscore'].astype(int)\n",
      "C:\\Users\\Usuario_1\\AppData\\Local\\Temp\\ipykernel_9800\\3086154621.py:2: SettingWithCopyWarning: \n",
      "A value is trying to be set on a copy of a slice from a DataFrame.\n",
      "Try using .loc[row_indexer,col_indexer] = value instead\n",
      "\n",
      "See the caveats in the documentation: https://pandas.pydata.org/pandas-docs/stable/user_guide/indexing.html#returning-a-view-versus-a-copy\n",
      "  ec_teams_nd_final['plusminus'] = ec_teams_nd_final['plusminus'].astype(int)\n"
     ]
    }
   ],
   "source": [
    "ec_teams_nd_final['roadscore'] = ec_teams_nd_final['roadscore'].astype(int)\n",
    "ec_teams_nd_final['plusminus'] = ec_teams_nd_final['plusminus'].astype(int)"
   ]
  },
  {
   "cell_type": "code",
   "execution_count": 29,
   "metadata": {},
   "outputs": [
    {
     "data": {
      "text/html": [
       "<div>\n",
       "<style scoped>\n",
       "    .dataframe tbody tr th:only-of-type {\n",
       "        vertical-align: middle;\n",
       "    }\n",
       "\n",
       "    .dataframe tbody tr th {\n",
       "        vertical-align: top;\n",
       "    }\n",
       "\n",
       "    .dataframe thead th {\n",
       "        text-align: right;\n",
       "    }\n",
       "</style>\n",
       "<table border=\"1\" class=\"dataframe\">\n",
       "  <thead>\n",
       "    <tr style=\"text-align: right;\">\n",
       "      <th></th>\n",
       "      <th>Competition</th>\n",
       "      <th>Phase</th>\n",
       "      <th>ronda</th>\n",
       "      <th>Dia</th>\n",
       "      <th>Hora</th>\n",
       "      <th>local</th>\n",
       "      <th>visitante</th>\n",
       "      <th>localscore</th>\n",
       "      <th>roadscore</th>\n",
       "      <th>plusminus</th>\n",
       "      <th>Winner</th>\n",
       "      <th>Ganador</th>\n",
       "    </tr>\n",
       "  </thead>\n",
       "  <tbody>\n",
       "    <tr>\n",
       "      <th>5</th>\n",
       "      <td>Eurocup</td>\n",
       "      <td>Regular Season</td>\n",
       "      <td>17</td>\n",
       "      <td>2024-01-30</td>\n",
       "      <td>20:30:00</td>\n",
       "      <td>Joventut Badalona</td>\n",
       "      <td>Hapoel Shlomo Tel Aviv</td>\n",
       "      <td>85</td>\n",
       "      <td>91</td>\n",
       "      <td>-6</td>\n",
       "      <td>Visitante</td>\n",
       "      <td>91.0</td>\n",
       "    </tr>\n",
       "  </tbody>\n",
       "</table>\n",
       "</div>"
      ],
      "text/plain": [
       "  Competition           Phase  ronda         Dia      Hora              local  \\\n",
       "5     Eurocup  Regular Season     17  2024-01-30  20:30:00  Joventut Badalona   \n",
       "\n",
       "                visitante  localscore  roadscore  plusminus     Winner  \\\n",
       "5  Hapoel Shlomo Tel Aviv          85         91         -6  Visitante   \n",
       "\n",
       "   Ganador  \n",
       "5     91.0  "
      ]
     },
     "execution_count": 29,
     "metadata": {},
     "output_type": "execute_result"
    }
   ],
   "source": [
    "ec_teams_nd_final.sample()"
   ]
  },
  {
   "cell_type": "code",
   "execution_count": 30,
   "metadata": {},
   "outputs": [
    {
     "name": "stderr",
     "output_type": "stream",
     "text": [
      "C:\\Users\\Usuario_1\\AppData\\Local\\Temp\\ipykernel_9800\\3020745948.py:1: SettingWithCopyWarning: \n",
      "A value is trying to be set on a copy of a slice from a DataFrame\n",
      "\n",
      "See the caveats in the documentation: https://pandas.pydata.org/pandas-docs/stable/user_guide/indexing.html#returning-a-view-versus-a-copy\n",
      "  ec_teams_nd_final.rename(columns={'Winner': 'ganador'}, inplace=True)\n"
     ]
    }
   ],
   "source": [
    "ec_teams_nd_final.rename(columns={'Winner': 'ganador'}, inplace=True)"
   ]
  },
  {
   "cell_type": "code",
   "execution_count": 31,
   "metadata": {},
   "outputs": [
    {
     "name": "stderr",
     "output_type": "stream",
     "text": [
      "C:\\Users\\Usuario_1\\AppData\\Local\\Temp\\ipykernel_9800\\3372016314.py:1: SettingWithCopyWarning: \n",
      "A value is trying to be set on a copy of a slice from a DataFrame.\n",
      "Try using .loc[row_indexer,col_indexer] = value instead\n",
      "\n",
      "See the caveats in the documentation: https://pandas.pydata.org/pandas-docs/stable/user_guide/indexing.html#returning-a-view-versus-a-copy\n",
      "  ec_teams_nd_final['Winner']=np.where(ec_teams_nd_final.plusminus>0, ec_teams_nd_final.local, ec_teams_nd_final.visitante)\n",
      "C:\\Users\\Usuario_1\\AppData\\Local\\Temp\\ipykernel_9800\\3372016314.py:2: SettingWithCopyWarning: \n",
      "A value is trying to be set on a copy of a slice from a DataFrame.\n",
      "Try using .loc[row_indexer,col_indexer] = value instead\n",
      "\n",
      "See the caveats in the documentation: https://pandas.pydata.org/pandas-docs/stable/user_guide/indexing.html#returning-a-view-versus-a-copy\n",
      "  ec_teams_nd_final['winner']=ec_teams_nd_final.apply(lambda row: row['local'] if row['plusminus']>0 else row ['visitante'], axis=1)\n"
     ]
    }
   ],
   "source": [
    "ec_teams_nd_final['Winner']=np.where(ec_teams_nd_final.plusminus>0, ec_teams_nd_final.local, ec_teams_nd_final.visitante)\n",
    "ec_teams_nd_final['winner']=ec_teams_nd_final.apply(lambda row: row['local'] if row['plusminus']>0 else row ['visitante'], axis=1)"
   ]
  },
  {
   "cell_type": "code",
   "execution_count": 32,
   "metadata": {},
   "outputs": [],
   "source": [
    "import warnings\n",
    "warnings.filterwarnings(\"ignore\")"
   ]
  },
  {
   "cell_type": "code",
   "execution_count": 33,
   "metadata": {},
   "outputs": [],
   "source": [
    "ec_teams_nd_final.rename(columns= {'winner': 'Ganador'}, inplace=True)"
   ]
  },
  {
   "cell_type": "code",
   "execution_count": 34,
   "metadata": {},
   "outputs": [],
   "source": [
    "ec_teams_nd_final['Ganador']=np.where(ec_teams_nd_final.plusminus>0, 'local', 'visitante')"
   ]
  },
  {
   "cell_type": "code",
   "execution_count": 35,
   "metadata": {},
   "outputs": [
    {
     "data": {
      "text/html": [
       "<div>\n",
       "<style scoped>\n",
       "    .dataframe tbody tr th:only-of-type {\n",
       "        vertical-align: middle;\n",
       "    }\n",
       "\n",
       "    .dataframe tbody tr th {\n",
       "        vertical-align: top;\n",
       "    }\n",
       "\n",
       "    .dataframe thead th {\n",
       "        text-align: right;\n",
       "    }\n",
       "</style>\n",
       "<table border=\"1\" class=\"dataframe\">\n",
       "  <thead>\n",
       "    <tr style=\"text-align: right;\">\n",
       "      <th></th>\n",
       "      <th>Competition</th>\n",
       "      <th>Phase</th>\n",
       "      <th>ronda</th>\n",
       "      <th>Dia</th>\n",
       "      <th>Hora</th>\n",
       "      <th>local</th>\n",
       "      <th>visitante</th>\n",
       "      <th>localscore</th>\n",
       "      <th>roadscore</th>\n",
       "      <th>plusminus</th>\n",
       "      <th>ganador</th>\n",
       "      <th>Ganador</th>\n",
       "      <th>Winner</th>\n",
       "      <th>Ganador</th>\n",
       "    </tr>\n",
       "  </thead>\n",
       "  <tbody>\n",
       "    <tr>\n",
       "      <th>77</th>\n",
       "      <td>Eurocup</td>\n",
       "      <td>Regular Season</td>\n",
       "      <td>10</td>\n",
       "      <td>2023-12-05</td>\n",
       "      <td>20:00:00</td>\n",
       "      <td>Slask Wroclaw</td>\n",
       "      <td>Mincidelice JL Bourg en Bresse</td>\n",
       "      <td>63</td>\n",
       "      <td>72</td>\n",
       "      <td>-9</td>\n",
       "      <td>Visitante</td>\n",
       "      <td>visitante</td>\n",
       "      <td>Mincidelice JL Bourg en Bresse</td>\n",
       "      <td>visitante</td>\n",
       "    </tr>\n",
       "  </tbody>\n",
       "</table>\n",
       "</div>"
      ],
      "text/plain": [
       "   Competition           Phase  ronda         Dia      Hora          local  \\\n",
       "77     Eurocup  Regular Season     10  2023-12-05  20:00:00  Slask Wroclaw   \n",
       "\n",
       "                         visitante  localscore  roadscore  plusminus  \\\n",
       "77  Mincidelice JL Bourg en Bresse          63         72         -9   \n",
       "\n",
       "      ganador    Ganador                          Winner    Ganador  \n",
       "77  Visitante  visitante  Mincidelice JL Bourg en Bresse  visitante  "
      ]
     },
     "execution_count": 35,
     "metadata": {},
     "output_type": "execute_result"
    }
   ],
   "source": [
    "ec_teams_nd_final.sample()"
   ]
  },
  {
   "cell_type": "code",
   "execution_count": 36,
   "metadata": {},
   "outputs": [],
   "source": [
    "ec_teams_nd_final.drop(columns='Ganador', inplace=True)"
   ]
  },
  {
   "cell_type": "code",
   "execution_count": 37,
   "metadata": {},
   "outputs": [
    {
     "data": {
      "text/html": [
       "<div>\n",
       "<style scoped>\n",
       "    .dataframe tbody tr th:only-of-type {\n",
       "        vertical-align: middle;\n",
       "    }\n",
       "\n",
       "    .dataframe tbody tr th {\n",
       "        vertical-align: top;\n",
       "    }\n",
       "\n",
       "    .dataframe thead th {\n",
       "        text-align: right;\n",
       "    }\n",
       "</style>\n",
       "<table border=\"1\" class=\"dataframe\">\n",
       "  <thead>\n",
       "    <tr style=\"text-align: right;\">\n",
       "      <th></th>\n",
       "      <th>Competition</th>\n",
       "      <th>Phase</th>\n",
       "      <th>ronda</th>\n",
       "      <th>Dia</th>\n",
       "      <th>Hora</th>\n",
       "      <th>local</th>\n",
       "      <th>visitante</th>\n",
       "      <th>localscore</th>\n",
       "      <th>roadscore</th>\n",
       "      <th>plusminus</th>\n",
       "      <th>ganador</th>\n",
       "      <th>Winner</th>\n",
       "    </tr>\n",
       "  </thead>\n",
       "  <tbody>\n",
       "    <tr>\n",
       "      <th>18</th>\n",
       "      <td>Eurocup</td>\n",
       "      <td>Regular Season</td>\n",
       "      <td>16</td>\n",
       "      <td>2024-01-23</td>\n",
       "      <td>19:00:00</td>\n",
       "      <td>Buducnost VOLI Podgorica</td>\n",
       "      <td>ratiopharm Ulm</td>\n",
       "      <td>80</td>\n",
       "      <td>84</td>\n",
       "      <td>-4</td>\n",
       "      <td>Visitante</td>\n",
       "      <td>ratiopharm Ulm</td>\n",
       "    </tr>\n",
       "  </tbody>\n",
       "</table>\n",
       "</div>"
      ],
      "text/plain": [
       "   Competition           Phase  ronda         Dia      Hora  \\\n",
       "18     Eurocup  Regular Season     16  2024-01-23  19:00:00   \n",
       "\n",
       "                       local       visitante  localscore  roadscore  \\\n",
       "18  Buducnost VOLI Podgorica  ratiopharm Ulm          80         84   \n",
       "\n",
       "    plusminus    ganador          Winner  \n",
       "18         -4  Visitante  ratiopharm Ulm  "
      ]
     },
     "execution_count": 37,
     "metadata": {},
     "output_type": "execute_result"
    }
   ],
   "source": [
    "ec_teams_nd_final.sample()"
   ]
  },
  {
   "cell_type": "code",
   "execution_count": 38,
   "metadata": {},
   "outputs": [],
   "source": [
    "ec_teams_nd_final['Ganador']=ec_teams_nd_final.apply(lambda row: row['local'] if row['plusminus']>0 else row ['visitante'], axis=1)"
   ]
  },
  {
   "cell_type": "code",
   "execution_count": 39,
   "metadata": {},
   "outputs": [
    {
     "data": {
      "text/html": [
       "<div>\n",
       "<style scoped>\n",
       "    .dataframe tbody tr th:only-of-type {\n",
       "        vertical-align: middle;\n",
       "    }\n",
       "\n",
       "    .dataframe tbody tr th {\n",
       "        vertical-align: top;\n",
       "    }\n",
       "\n",
       "    .dataframe thead th {\n",
       "        text-align: right;\n",
       "    }\n",
       "</style>\n",
       "<table border=\"1\" class=\"dataframe\">\n",
       "  <thead>\n",
       "    <tr style=\"text-align: right;\">\n",
       "      <th></th>\n",
       "      <th>Competition</th>\n",
       "      <th>Phase</th>\n",
       "      <th>ronda</th>\n",
       "      <th>Dia</th>\n",
       "      <th>Hora</th>\n",
       "      <th>local</th>\n",
       "      <th>visitante</th>\n",
       "      <th>localscore</th>\n",
       "      <th>roadscore</th>\n",
       "      <th>plusminus</th>\n",
       "      <th>ganador</th>\n",
       "      <th>Winner</th>\n",
       "      <th>Ganador</th>\n",
       "    </tr>\n",
       "  </thead>\n",
       "  <tbody>\n",
       "    <tr>\n",
       "      <th>140</th>\n",
       "      <td>Eurocup</td>\n",
       "      <td>Regular Season</td>\n",
       "      <td>4</td>\n",
       "      <td>2023-10-24</td>\n",
       "      <td>20:00:00</td>\n",
       "      <td>Umana Reyer Venice</td>\n",
       "      <td>Joventut Badalona</td>\n",
       "      <td>79</td>\n",
       "      <td>64</td>\n",
       "      <td>15</td>\n",
       "      <td>Local</td>\n",
       "      <td>Umana Reyer Venice</td>\n",
       "      <td>Umana Reyer Venice</td>\n",
       "    </tr>\n",
       "  </tbody>\n",
       "</table>\n",
       "</div>"
      ],
      "text/plain": [
       "    Competition           Phase  ronda         Dia      Hora  \\\n",
       "140     Eurocup  Regular Season      4  2023-10-24  20:00:00   \n",
       "\n",
       "                  local          visitante  localscore  roadscore  plusminus  \\\n",
       "140  Umana Reyer Venice  Joventut Badalona          79         64         15   \n",
       "\n",
       "    ganador              Winner             Ganador  \n",
       "140   Local  Umana Reyer Venice  Umana Reyer Venice  "
      ]
     },
     "execution_count": 39,
     "metadata": {},
     "output_type": "execute_result"
    }
   ],
   "source": [
    "ec_teams_nd_final.sample()"
   ]
  },
  {
   "cell_type": "code",
   "execution_count": 40,
   "metadata": {},
   "outputs": [],
   "source": [
    "ec_teams_nd_final.drop(columns='Ganador', inplace=True)"
   ]
  },
  {
   "cell_type": "code",
   "execution_count": 41,
   "metadata": {},
   "outputs": [],
   "source": [
    "ec_teams_nd_final['Ganador']=np.where(ec_teams_nd_final.plusminus>0, ec_teams_nd_final.local, ec_teams_nd_final.visitante)"
   ]
  },
  {
   "cell_type": "code",
   "execution_count": 42,
   "metadata": {},
   "outputs": [
    {
     "data": {
      "text/html": [
       "<div>\n",
       "<style scoped>\n",
       "    .dataframe tbody tr th:only-of-type {\n",
       "        vertical-align: middle;\n",
       "    }\n",
       "\n",
       "    .dataframe tbody tr th {\n",
       "        vertical-align: top;\n",
       "    }\n",
       "\n",
       "    .dataframe thead th {\n",
       "        text-align: right;\n",
       "    }\n",
       "</style>\n",
       "<table border=\"1\" class=\"dataframe\">\n",
       "  <thead>\n",
       "    <tr style=\"text-align: right;\">\n",
       "      <th></th>\n",
       "      <th>Competition</th>\n",
       "      <th>Phase</th>\n",
       "      <th>ronda</th>\n",
       "      <th>Dia</th>\n",
       "      <th>Hora</th>\n",
       "      <th>local</th>\n",
       "      <th>visitante</th>\n",
       "      <th>localscore</th>\n",
       "      <th>roadscore</th>\n",
       "      <th>plusminus</th>\n",
       "      <th>ganador</th>\n",
       "      <th>Winner</th>\n",
       "      <th>Ganador</th>\n",
       "    </tr>\n",
       "  </thead>\n",
       "  <tbody>\n",
       "    <tr>\n",
       "      <th>137</th>\n",
       "      <td>Eurocup</td>\n",
       "      <td>Regular Season</td>\n",
       "      <td>4</td>\n",
       "      <td>2023-10-25</td>\n",
       "      <td>18:00:00</td>\n",
       "      <td>U-BT Cluj-Napoca</td>\n",
       "      <td>Buducnost VOLI Podgorica</td>\n",
       "      <td>89</td>\n",
       "      <td>74</td>\n",
       "      <td>15</td>\n",
       "      <td>Local</td>\n",
       "      <td>U-BT Cluj-Napoca</td>\n",
       "      <td>U-BT Cluj-Napoca</td>\n",
       "    </tr>\n",
       "  </tbody>\n",
       "</table>\n",
       "</div>"
      ],
      "text/plain": [
       "    Competition           Phase  ronda         Dia      Hora  \\\n",
       "137     Eurocup  Regular Season      4  2023-10-25  18:00:00   \n",
       "\n",
       "                local                 visitante  localscore  roadscore  \\\n",
       "137  U-BT Cluj-Napoca  Buducnost VOLI Podgorica          89         74   \n",
       "\n",
       "     plusminus ganador            Winner           Ganador  \n",
       "137         15   Local  U-BT Cluj-Napoca  U-BT Cluj-Napoca  "
      ]
     },
     "execution_count": 42,
     "metadata": {},
     "output_type": "execute_result"
    }
   ],
   "source": [
    "ec_teams_nd_final.sample()"
   ]
  },
  {
   "cell_type": "code",
   "execution_count": 43,
   "metadata": {},
   "outputs": [],
   "source": [
    "ec_teams_nd_final.drop(columns='Ganador', inplace=True)"
   ]
  },
  {
   "cell_type": "code",
   "execution_count": 44,
   "metadata": {},
   "outputs": [],
   "source": [
    "ec_teams_nd_final['Ganador']=np.where(ec_teams_nd_final.plusminus>0, 'local', 'visitante')"
   ]
  },
  {
   "cell_type": "code",
   "execution_count": 45,
   "metadata": {},
   "outputs": [
    {
     "data": {
      "text/html": [
       "<div>\n",
       "<style scoped>\n",
       "    .dataframe tbody tr th:only-of-type {\n",
       "        vertical-align: middle;\n",
       "    }\n",
       "\n",
       "    .dataframe tbody tr th {\n",
       "        vertical-align: top;\n",
       "    }\n",
       "\n",
       "    .dataframe thead th {\n",
       "        text-align: right;\n",
       "    }\n",
       "</style>\n",
       "<table border=\"1\" class=\"dataframe\">\n",
       "  <thead>\n",
       "    <tr style=\"text-align: right;\">\n",
       "      <th></th>\n",
       "      <th>Competition</th>\n",
       "      <th>Phase</th>\n",
       "      <th>ronda</th>\n",
       "      <th>Dia</th>\n",
       "      <th>Hora</th>\n",
       "      <th>local</th>\n",
       "      <th>visitante</th>\n",
       "      <th>localscore</th>\n",
       "      <th>roadscore</th>\n",
       "      <th>plusminus</th>\n",
       "      <th>ganador</th>\n",
       "      <th>Winner</th>\n",
       "      <th>Ganador</th>\n",
       "    </tr>\n",
       "  </thead>\n",
       "  <tbody>\n",
       "    <tr>\n",
       "      <th>112</th>\n",
       "      <td>Eurocup</td>\n",
       "      <td>Regular Season</td>\n",
       "      <td>7</td>\n",
       "      <td>2023-11-14</td>\n",
       "      <td>18:00:00</td>\n",
       "      <td>Prometey Slobozhanske</td>\n",
       "      <td>Hapoel Shlomo Tel Aviv</td>\n",
       "      <td>98</td>\n",
       "      <td>89</td>\n",
       "      <td>9</td>\n",
       "      <td>Local</td>\n",
       "      <td>Prometey Slobozhanske</td>\n",
       "      <td>local</td>\n",
       "    </tr>\n",
       "  </tbody>\n",
       "</table>\n",
       "</div>"
      ],
      "text/plain": [
       "    Competition           Phase  ronda         Dia      Hora  \\\n",
       "112     Eurocup  Regular Season      7  2023-11-14  18:00:00   \n",
       "\n",
       "                     local               visitante  localscore  roadscore  \\\n",
       "112  Prometey Slobozhanske  Hapoel Shlomo Tel Aviv          98         89   \n",
       "\n",
       "     plusminus ganador                 Winner Ganador  \n",
       "112          9   Local  Prometey Slobozhanske   local  "
      ]
     },
     "execution_count": 45,
     "metadata": {},
     "output_type": "execute_result"
    }
   ],
   "source": [
    "ec_teams_nd_final.sample()"
   ]
  },
  {
   "cell_type": "code",
   "execution_count": 46,
   "metadata": {},
   "outputs": [
    {
     "data": {
      "text/html": [
       "<div>\n",
       "<style scoped>\n",
       "    .dataframe tbody tr th:only-of-type {\n",
       "        vertical-align: middle;\n",
       "    }\n",
       "\n",
       "    .dataframe tbody tr th {\n",
       "        vertical-align: top;\n",
       "    }\n",
       "\n",
       "    .dataframe thead th {\n",
       "        text-align: right;\n",
       "    }\n",
       "</style>\n",
       "<table border=\"1\" class=\"dataframe\">\n",
       "  <thead>\n",
       "    <tr style=\"text-align: right;\">\n",
       "      <th></th>\n",
       "      <th>Competition</th>\n",
       "      <th>Phase</th>\n",
       "      <th>ronda</th>\n",
       "      <th>Dia</th>\n",
       "      <th>Hora</th>\n",
       "      <th>local</th>\n",
       "      <th>visitante</th>\n",
       "      <th>localscore</th>\n",
       "      <th>roadscore</th>\n",
       "      <th>plusminus</th>\n",
       "      <th>ganador</th>\n",
       "      <th>Winner</th>\n",
       "      <th>Ganador</th>\n",
       "    </tr>\n",
       "  </thead>\n",
       "  <tbody>\n",
       "    <tr>\n",
       "      <th>172</th>\n",
       "      <td>Eurocup</td>\n",
       "      <td>Regular Season</td>\n",
       "      <td>1</td>\n",
       "      <td>2023-10-03</td>\n",
       "      <td>19:00:00</td>\n",
       "      <td>Hapoel Shlomo Tel Aviv</td>\n",
       "      <td>Cedevita Olimpija Ljubljana</td>\n",
       "      <td>100</td>\n",
       "      <td>73</td>\n",
       "      <td>27</td>\n",
       "      <td>Local</td>\n",
       "      <td>Hapoel Shlomo Tel Aviv</td>\n",
       "      <td>local</td>\n",
       "    </tr>\n",
       "    <tr>\n",
       "      <th>171</th>\n",
       "      <td>Eurocup</td>\n",
       "      <td>Regular Season</td>\n",
       "      <td>1</td>\n",
       "      <td>2023-10-03</td>\n",
       "      <td>19:30:00</td>\n",
       "      <td>ratiopharm Ulm</td>\n",
       "      <td>Dolomiti Energia Trento</td>\n",
       "      <td>80</td>\n",
       "      <td>70</td>\n",
       "      <td>10</td>\n",
       "      <td>Local</td>\n",
       "      <td>ratiopharm Ulm</td>\n",
       "      <td>local</td>\n",
       "    </tr>\n",
       "    <tr>\n",
       "      <th>170</th>\n",
       "      <td>Eurocup</td>\n",
       "      <td>Regular Season</td>\n",
       "      <td>1</td>\n",
       "      <td>2023-10-03</td>\n",
       "      <td>20:30:00</td>\n",
       "      <td>Paris Basketball</td>\n",
       "      <td>Wolves Vilnius</td>\n",
       "      <td>105</td>\n",
       "      <td>78</td>\n",
       "      <td>27</td>\n",
       "      <td>Local</td>\n",
       "      <td>Paris Basketball</td>\n",
       "      <td>local</td>\n",
       "    </tr>\n",
       "    <tr>\n",
       "      <th>168</th>\n",
       "      <td>Eurocup</td>\n",
       "      <td>Regular Season</td>\n",
       "      <td>1</td>\n",
       "      <td>2023-10-04</td>\n",
       "      <td>18:00:00</td>\n",
       "      <td>U-BT Cluj-Napoca</td>\n",
       "      <td>Turk Telekom Ankara</td>\n",
       "      <td>80</td>\n",
       "      <td>71</td>\n",
       "      <td>9</td>\n",
       "      <td>Local</td>\n",
       "      <td>U-BT Cluj-Napoca</td>\n",
       "      <td>local</td>\n",
       "    </tr>\n",
       "    <tr>\n",
       "      <th>169</th>\n",
       "      <td>Eurocup</td>\n",
       "      <td>Regular Season</td>\n",
       "      <td>1</td>\n",
       "      <td>2023-10-04</td>\n",
       "      <td>18:00:00</td>\n",
       "      <td>Prometey Slobozhanske</td>\n",
       "      <td>Veolia Towers Hamburg</td>\n",
       "      <td>97</td>\n",
       "      <td>77</td>\n",
       "      <td>20</td>\n",
       "      <td>Local</td>\n",
       "      <td>Prometey Slobozhanske</td>\n",
       "      <td>local</td>\n",
       "    </tr>\n",
       "  </tbody>\n",
       "</table>\n",
       "</div>"
      ],
      "text/plain": [
       "    Competition           Phase  ronda         Dia      Hora  \\\n",
       "172     Eurocup  Regular Season      1  2023-10-03  19:00:00   \n",
       "171     Eurocup  Regular Season      1  2023-10-03  19:30:00   \n",
       "170     Eurocup  Regular Season      1  2023-10-03  20:30:00   \n",
       "168     Eurocup  Regular Season      1  2023-10-04  18:00:00   \n",
       "169     Eurocup  Regular Season      1  2023-10-04  18:00:00   \n",
       "\n",
       "                      local                    visitante  localscore  \\\n",
       "172  Hapoel Shlomo Tel Aviv  Cedevita Olimpija Ljubljana         100   \n",
       "171          ratiopharm Ulm      Dolomiti Energia Trento          80   \n",
       "170        Paris Basketball               Wolves Vilnius         105   \n",
       "168        U-BT Cluj-Napoca          Turk Telekom Ankara          80   \n",
       "169   Prometey Slobozhanske        Veolia Towers Hamburg          97   \n",
       "\n",
       "     roadscore  plusminus ganador                  Winner Ganador  \n",
       "172         73         27   Local  Hapoel Shlomo Tel Aviv   local  \n",
       "171         70         10   Local          ratiopharm Ulm   local  \n",
       "170         78         27   Local        Paris Basketball   local  \n",
       "168         71          9   Local        U-BT Cluj-Napoca   local  \n",
       "169         77         20   Local   Prometey Slobozhanske   local  "
      ]
     },
     "execution_count": 46,
     "metadata": {},
     "output_type": "execute_result"
    }
   ],
   "source": [
    "ec_teams_nd_final.head()"
   ]
  },
  {
   "cell_type": "code",
   "execution_count": 47,
   "metadata": {},
   "outputs": [
    {
     "data": {
      "text/html": [
       "<div>\n",
       "<style scoped>\n",
       "    .dataframe tbody tr th:only-of-type {\n",
       "        vertical-align: middle;\n",
       "    }\n",
       "\n",
       "    .dataframe tbody tr th {\n",
       "        vertical-align: top;\n",
       "    }\n",
       "\n",
       "    .dataframe thead th {\n",
       "        text-align: right;\n",
       "    }\n",
       "</style>\n",
       "<table border=\"1\" class=\"dataframe\">\n",
       "  <thead>\n",
       "    <tr style=\"text-align: right;\">\n",
       "      <th></th>\n",
       "      <th>Competition</th>\n",
       "      <th>Phase</th>\n",
       "      <th>ronda</th>\n",
       "      <th>Dia</th>\n",
       "      <th>Hora</th>\n",
       "      <th>local</th>\n",
       "      <th>visitante</th>\n",
       "      <th>localscore</th>\n",
       "      <th>roadscore</th>\n",
       "      <th>plusminus</th>\n",
       "      <th>ganador</th>\n",
       "      <th>Winner</th>\n",
       "      <th>Ganador</th>\n",
       "    </tr>\n",
       "  </thead>\n",
       "  <tbody>\n",
       "    <tr>\n",
       "      <th>4</th>\n",
       "      <td>Eurocup</td>\n",
       "      <td>Regular Season</td>\n",
       "      <td>17</td>\n",
       "      <td>2024-01-31</td>\n",
       "      <td>18:00:00</td>\n",
       "      <td>Turk Telekom Ankara</td>\n",
       "      <td>Mincidelice JL Bourg en Bresse</td>\n",
       "      <td>64</td>\n",
       "      <td>68</td>\n",
       "      <td>-4</td>\n",
       "      <td>Visitante</td>\n",
       "      <td>Mincidelice JL Bourg en Bresse</td>\n",
       "      <td>visitante</td>\n",
       "    </tr>\n",
       "    <tr>\n",
       "      <th>3</th>\n",
       "      <td>Eurocup</td>\n",
       "      <td>Regular Season</td>\n",
       "      <td>17</td>\n",
       "      <td>2024-01-31</td>\n",
       "      <td>18:30:00</td>\n",
       "      <td>Cedevita Olimpija Ljubljana</td>\n",
       "      <td>London Lions</td>\n",
       "      <td>85</td>\n",
       "      <td>92</td>\n",
       "      <td>-7</td>\n",
       "      <td>Visitante</td>\n",
       "      <td>London Lions</td>\n",
       "      <td>visitante</td>\n",
       "    </tr>\n",
       "    <tr>\n",
       "      <th>2</th>\n",
       "      <td>Eurocup</td>\n",
       "      <td>Regular Season</td>\n",
       "      <td>17</td>\n",
       "      <td>2024-01-31</td>\n",
       "      <td>19:30:00</td>\n",
       "      <td>ratiopharm Ulm</td>\n",
       "      <td>Aris Midea Thessaloniki</td>\n",
       "      <td>66</td>\n",
       "      <td>86</td>\n",
       "      <td>-20</td>\n",
       "      <td>Visitante</td>\n",
       "      <td>Aris Midea Thessaloniki</td>\n",
       "      <td>visitante</td>\n",
       "    </tr>\n",
       "    <tr>\n",
       "      <th>1</th>\n",
       "      <td>Eurocup</td>\n",
       "      <td>Regular Season</td>\n",
       "      <td>17</td>\n",
       "      <td>2024-01-31</td>\n",
       "      <td>20:00:00</td>\n",
       "      <td>Dolomiti Energia Trento</td>\n",
       "      <td>Buducnost VOLI Podgorica</td>\n",
       "      <td>78</td>\n",
       "      <td>97</td>\n",
       "      <td>-19</td>\n",
       "      <td>Visitante</td>\n",
       "      <td>Buducnost VOLI Podgorica</td>\n",
       "      <td>visitante</td>\n",
       "    </tr>\n",
       "    <tr>\n",
       "      <th>0</th>\n",
       "      <td>Eurocup</td>\n",
       "      <td>Regular Season</td>\n",
       "      <td>17</td>\n",
       "      <td>2024-01-31</td>\n",
       "      <td>21:00:00</td>\n",
       "      <td>Dreamland Gran Canaria</td>\n",
       "      <td>U-BT Cluj-Napoca</td>\n",
       "      <td>111</td>\n",
       "      <td>113</td>\n",
       "      <td>-2</td>\n",
       "      <td>Visitante</td>\n",
       "      <td>U-BT Cluj-Napoca</td>\n",
       "      <td>visitante</td>\n",
       "    </tr>\n",
       "  </tbody>\n",
       "</table>\n",
       "</div>"
      ],
      "text/plain": [
       "  Competition           Phase  ronda         Dia      Hora  \\\n",
       "4     Eurocup  Regular Season     17  2024-01-31  18:00:00   \n",
       "3     Eurocup  Regular Season     17  2024-01-31  18:30:00   \n",
       "2     Eurocup  Regular Season     17  2024-01-31  19:30:00   \n",
       "1     Eurocup  Regular Season     17  2024-01-31  20:00:00   \n",
       "0     Eurocup  Regular Season     17  2024-01-31  21:00:00   \n",
       "\n",
       "                         local                       visitante  localscore  \\\n",
       "4          Turk Telekom Ankara  Mincidelice JL Bourg en Bresse          64   \n",
       "3  Cedevita Olimpija Ljubljana                    London Lions          85   \n",
       "2               ratiopharm Ulm         Aris Midea Thessaloniki          66   \n",
       "1      Dolomiti Energia Trento        Buducnost VOLI Podgorica          78   \n",
       "0       Dreamland Gran Canaria                U-BT Cluj-Napoca         111   \n",
       "\n",
       "   roadscore  plusminus    ganador                          Winner    Ganador  \n",
       "4         68         -4  Visitante  Mincidelice JL Bourg en Bresse  visitante  \n",
       "3         92         -7  Visitante                    London Lions  visitante  \n",
       "2         86        -20  Visitante         Aris Midea Thessaloniki  visitante  \n",
       "1         97        -19  Visitante        Buducnost VOLI Podgorica  visitante  \n",
       "0        113         -2  Visitante                U-BT Cluj-Napoca  visitante  "
      ]
     },
     "execution_count": 47,
     "metadata": {},
     "output_type": "execute_result"
    }
   ],
   "source": [
    "ec_teams_nd_final.tail()"
   ]
  },
  {
   "cell_type": "code",
   "execution_count": 48,
   "metadata": {},
   "outputs": [],
   "source": [
    "ec_teams_nd_final.reset_index(inplace=True, drop=True)"
   ]
  },
  {
   "cell_type": "code",
   "execution_count": 49,
   "metadata": {},
   "outputs": [
    {
     "data": {
      "text/html": [
       "<div>\n",
       "<style scoped>\n",
       "    .dataframe tbody tr th:only-of-type {\n",
       "        vertical-align: middle;\n",
       "    }\n",
       "\n",
       "    .dataframe tbody tr th {\n",
       "        vertical-align: top;\n",
       "    }\n",
       "\n",
       "    .dataframe thead th {\n",
       "        text-align: right;\n",
       "    }\n",
       "</style>\n",
       "<table border=\"1\" class=\"dataframe\">\n",
       "  <thead>\n",
       "    <tr style=\"text-align: right;\">\n",
       "      <th></th>\n",
       "      <th>Competition</th>\n",
       "      <th>Phase</th>\n",
       "      <th>ronda</th>\n",
       "      <th>Dia</th>\n",
       "      <th>Hora</th>\n",
       "      <th>local</th>\n",
       "      <th>visitante</th>\n",
       "      <th>localscore</th>\n",
       "      <th>roadscore</th>\n",
       "      <th>plusminus</th>\n",
       "      <th>ganador</th>\n",
       "      <th>Winner</th>\n",
       "      <th>Ganador</th>\n",
       "    </tr>\n",
       "  </thead>\n",
       "  <tbody>\n",
       "    <tr>\n",
       "      <th>0</th>\n",
       "      <td>Eurocup</td>\n",
       "      <td>Regular Season</td>\n",
       "      <td>1</td>\n",
       "      <td>2023-10-03</td>\n",
       "      <td>19:00:00</td>\n",
       "      <td>Hapoel Shlomo Tel Aviv</td>\n",
       "      <td>Cedevita Olimpija Ljubljana</td>\n",
       "      <td>100</td>\n",
       "      <td>73</td>\n",
       "      <td>27</td>\n",
       "      <td>Local</td>\n",
       "      <td>Hapoel Shlomo Tel Aviv</td>\n",
       "      <td>local</td>\n",
       "    </tr>\n",
       "    <tr>\n",
       "      <th>1</th>\n",
       "      <td>Eurocup</td>\n",
       "      <td>Regular Season</td>\n",
       "      <td>1</td>\n",
       "      <td>2023-10-03</td>\n",
       "      <td>19:30:00</td>\n",
       "      <td>ratiopharm Ulm</td>\n",
       "      <td>Dolomiti Energia Trento</td>\n",
       "      <td>80</td>\n",
       "      <td>70</td>\n",
       "      <td>10</td>\n",
       "      <td>Local</td>\n",
       "      <td>ratiopharm Ulm</td>\n",
       "      <td>local</td>\n",
       "    </tr>\n",
       "    <tr>\n",
       "      <th>2</th>\n",
       "      <td>Eurocup</td>\n",
       "      <td>Regular Season</td>\n",
       "      <td>1</td>\n",
       "      <td>2023-10-03</td>\n",
       "      <td>20:30:00</td>\n",
       "      <td>Paris Basketball</td>\n",
       "      <td>Wolves Vilnius</td>\n",
       "      <td>105</td>\n",
       "      <td>78</td>\n",
       "      <td>27</td>\n",
       "      <td>Local</td>\n",
       "      <td>Paris Basketball</td>\n",
       "      <td>local</td>\n",
       "    </tr>\n",
       "    <tr>\n",
       "      <th>3</th>\n",
       "      <td>Eurocup</td>\n",
       "      <td>Regular Season</td>\n",
       "      <td>1</td>\n",
       "      <td>2023-10-04</td>\n",
       "      <td>18:00:00</td>\n",
       "      <td>U-BT Cluj-Napoca</td>\n",
       "      <td>Turk Telekom Ankara</td>\n",
       "      <td>80</td>\n",
       "      <td>71</td>\n",
       "      <td>9</td>\n",
       "      <td>Local</td>\n",
       "      <td>U-BT Cluj-Napoca</td>\n",
       "      <td>local</td>\n",
       "    </tr>\n",
       "    <tr>\n",
       "      <th>4</th>\n",
       "      <td>Eurocup</td>\n",
       "      <td>Regular Season</td>\n",
       "      <td>1</td>\n",
       "      <td>2023-10-04</td>\n",
       "      <td>18:00:00</td>\n",
       "      <td>Prometey Slobozhanske</td>\n",
       "      <td>Veolia Towers Hamburg</td>\n",
       "      <td>97</td>\n",
       "      <td>77</td>\n",
       "      <td>20</td>\n",
       "      <td>Local</td>\n",
       "      <td>Prometey Slobozhanske</td>\n",
       "      <td>local</td>\n",
       "    </tr>\n",
       "  </tbody>\n",
       "</table>\n",
       "</div>"
      ],
      "text/plain": [
       "  Competition           Phase  ronda         Dia      Hora  \\\n",
       "0     Eurocup  Regular Season      1  2023-10-03  19:00:00   \n",
       "1     Eurocup  Regular Season      1  2023-10-03  19:30:00   \n",
       "2     Eurocup  Regular Season      1  2023-10-03  20:30:00   \n",
       "3     Eurocup  Regular Season      1  2023-10-04  18:00:00   \n",
       "4     Eurocup  Regular Season      1  2023-10-04  18:00:00   \n",
       "\n",
       "                    local                    visitante  localscore  roadscore  \\\n",
       "0  Hapoel Shlomo Tel Aviv  Cedevita Olimpija Ljubljana         100         73   \n",
       "1          ratiopharm Ulm      Dolomiti Energia Trento          80         70   \n",
       "2        Paris Basketball               Wolves Vilnius         105         78   \n",
       "3        U-BT Cluj-Napoca          Turk Telekom Ankara          80         71   \n",
       "4   Prometey Slobozhanske        Veolia Towers Hamburg          97         77   \n",
       "\n",
       "   plusminus ganador                  Winner Ganador  \n",
       "0         27   Local  Hapoel Shlomo Tel Aviv   local  \n",
       "1         10   Local          ratiopharm Ulm   local  \n",
       "2         27   Local        Paris Basketball   local  \n",
       "3          9   Local        U-BT Cluj-Napoca   local  \n",
       "4         20   Local   Prometey Slobozhanske   local  "
      ]
     },
     "execution_count": 49,
     "metadata": {},
     "output_type": "execute_result"
    }
   ],
   "source": [
    "ec_teams_nd_final.head()"
   ]
  },
  {
   "cell_type": "markdown",
   "metadata": {},
   "source": [
    "Let's now compare it with the EL dataset that we have: You might select a sample of both of them and see what are the inconsistencies!"
   ]
  },
  {
   "cell_type": "code",
   "execution_count": 50,
   "metadata": {},
   "outputs": [
    {
     "data": {
      "text/html": [
       "<div>\n",
       "<style scoped>\n",
       "    .dataframe tbody tr th:only-of-type {\n",
       "        vertical-align: middle;\n",
       "    }\n",
       "\n",
       "    .dataframe tbody tr th {\n",
       "        vertical-align: top;\n",
       "    }\n",
       "\n",
       "    .dataframe thead th {\n",
       "        text-align: right;\n",
       "    }\n",
       "</style>\n",
       "<table border=\"1\" class=\"dataframe\">\n",
       "  <thead>\n",
       "    <tr style=\"text-align: right;\">\n",
       "      <th></th>\n",
       "      <th>Competition</th>\n",
       "      <th>Phase</th>\n",
       "      <th>ronda</th>\n",
       "      <th>Dia</th>\n",
       "      <th>Hora</th>\n",
       "      <th>local</th>\n",
       "      <th>visitante</th>\n",
       "      <th>localscore</th>\n",
       "      <th>roadscore</th>\n",
       "      <th>plusminus</th>\n",
       "      <th>ganador</th>\n",
       "      <th>Winner</th>\n",
       "      <th>Ganador</th>\n",
       "    </tr>\n",
       "  </thead>\n",
       "  <tbody>\n",
       "    <tr>\n",
       "      <th>145</th>\n",
       "      <td>Eurocup</td>\n",
       "      <td>Regular Season</td>\n",
       "      <td>15</td>\n",
       "      <td>2024-01-17</td>\n",
       "      <td>19:30:00</td>\n",
       "      <td>ratiopharm Ulm</td>\n",
       "      <td>U-BT Cluj-Napoca</td>\n",
       "      <td>81</td>\n",
       "      <td>85</td>\n",
       "      <td>-4</td>\n",
       "      <td>Visitante</td>\n",
       "      <td>U-BT Cluj-Napoca</td>\n",
       "      <td>visitante</td>\n",
       "    </tr>\n",
       "  </tbody>\n",
       "</table>\n",
       "</div>"
      ],
      "text/plain": [
       "    Competition           Phase  ronda         Dia      Hora           local  \\\n",
       "145     Eurocup  Regular Season     15  2024-01-17  19:30:00  ratiopharm Ulm   \n",
       "\n",
       "            visitante  localscore  roadscore  plusminus    ganador  \\\n",
       "145  U-BT Cluj-Napoca          81         85         -4  Visitante   \n",
       "\n",
       "               Winner    Ganador  \n",
       "145  U-BT Cluj-Napoca  visitante  "
      ]
     },
     "execution_count": 50,
     "metadata": {},
     "output_type": "execute_result"
    }
   ],
   "source": [
    "#Your sample ecteams code here: \n",
    "ec_teams_nd_final.sample()\n"
   ]
  },
  {
   "cell_type": "code",
   "execution_count": 51,
   "metadata": {},
   "outputs": [
    {
     "data": {
      "text/html": [
       "<div>\n",
       "<style scoped>\n",
       "    .dataframe tbody tr th:only-of-type {\n",
       "        vertical-align: middle;\n",
       "    }\n",
       "\n",
       "    .dataframe tbody tr th {\n",
       "        vertical-align: top;\n",
       "    }\n",
       "\n",
       "    .dataframe thead th {\n",
       "        text-align: right;\n",
       "    }\n",
       "</style>\n",
       "<table border=\"1\" class=\"dataframe\">\n",
       "  <thead>\n",
       "    <tr style=\"text-align: right;\">\n",
       "      <th></th>\n",
       "      <th>Competition</th>\n",
       "      <th>Phase</th>\n",
       "      <th>Ronda</th>\n",
       "      <th>Dia</th>\n",
       "      <th>Hora</th>\n",
       "      <th>Local</th>\n",
       "      <th>Visitante</th>\n",
       "      <th>Localscore</th>\n",
       "      <th>Visitantescore</th>\n",
       "      <th>Arbitros</th>\n",
       "      <th>Plusminus</th>\n",
       "      <th>Winner</th>\n",
       "      <th>Ganador</th>\n",
       "    </tr>\n",
       "  </thead>\n",
       "  <tbody>\n",
       "    <tr>\n",
       "      <th>178</th>\n",
       "      <td>Euroleague</td>\n",
       "      <td>Regular Season</td>\n",
       "      <td>20</td>\n",
       "      <td>2024-01-10</td>\n",
       "      <td>20:30:00</td>\n",
       "      <td>FC Barcelona</td>\n",
       "      <td>Olympiacos Piraeus</td>\n",
       "      <td>86</td>\n",
       "      <td>78</td>\n",
       "      <td>['BOLTAUZER, MATEJ', 'JOVCIC, MILIVOJE', 'ZAMO...</td>\n",
       "      <td>8</td>\n",
       "      <td>FC Barcelona</td>\n",
       "      <td>Local</td>\n",
       "    </tr>\n",
       "  </tbody>\n",
       "</table>\n",
       "</div>"
      ],
      "text/plain": [
       "    Competition           Phase  Ronda         Dia      Hora         Local  \\\n",
       "178  Euroleague  Regular Season     20  2024-01-10  20:30:00  FC Barcelona   \n",
       "\n",
       "              Visitante  Localscore  Visitantescore  \\\n",
       "178  Olympiacos Piraeus          86              78   \n",
       "\n",
       "                                              Arbitros  Plusminus  \\\n",
       "178  ['BOLTAUZER, MATEJ', 'JOVCIC, MILIVOJE', 'ZAMO...          8   \n",
       "\n",
       "           Winner Ganador  \n",
       "178  FC Barcelona   Local  "
      ]
     },
     "execution_count": 51,
     "metadata": {},
     "output_type": "execute_result"
    }
   ],
   "source": [
    "#Your sample elteams code here: \n",
    "elteams.sample()"
   ]
  },
  {
   "cell_type": "markdown",
   "metadata": {},
   "source": [
    "What are the inconsistencies that you are seeing? Write them down!\n",
    "\n",
    "- Arbtiros doesn't exist\n",
    "- Different competitions so different teams\n",
    "- Dates are different\n",
    "- \n",
    "\n",
    "<details>\n",
    "    <summary> Expand the box to see the inconsistencies </summary>\n",
    "\n",
    "- The columns are named in lowercase and the columns in Euroleague are capitalized\n",
    "- There are some missing columns (f.e. Arbitros)\n",
    "- Fecha is not split in Dia and Hora\n",
    "- `Winner and Ganador Columns show different data` are not the same! Be extremely careful about it\n",
    "\n",
    "</details>"
   ]
  },
  {
   "cell_type": "markdown",
   "metadata": {},
   "source": [
    "As you can see there are a lot of different inconsistencies right? \n",
    "But beofore starting cleaning like crazy people, let's take a second to know what do we want to compare: \n",
    "\n",
    "- The CLUBS are impossible to compare, as different competitions defines different clubs\n",
    "- Both rounds (Eurocup has less rounds) and Dates (Different Dates) are also not really useful\n",
    "- We don't have information about Arbitros\n",
    "\n",
    "## Conclusion\n",
    "\n",
    "### We must take into consideration what data we DO have in both dataframes to compare it propperly and don't use time cleaning unnecessary things. \n",
    "\n",
    "In this particular case, we will need to compare: \n"
   ]
  },
  {
   "cell_type": "markdown",
   "metadata": {},
   "source": [
    "`Competition`: The main column that define one from another. \n",
    "\n",
    "Create the Competition column in the EuroCup dataframe, being the fixed value \"Eurocup\""
   ]
  },
  {
   "cell_type": "code",
   "execution_count": 52,
   "metadata": {},
   "outputs": [],
   "source": [
    "#Your Code here: \n",
    "#Lo hice arriba"
   ]
  },
  {
   "cell_type": "markdown",
   "metadata": {},
   "source": [
    "`Ganador`: Being the actual values \"Local\" or \"Visitante\"\n",
    "\n",
    "**BE CAREFUL**: Before changing the correct column to \"Ganador\" from the EC dataframe, there is a \"Ganador\" column with the incorrect information: STEP BY STEP!"
   ]
  },
  {
   "cell_type": "code",
   "execution_count": 53,
   "metadata": {},
   "outputs": [],
   "source": [
    "#Drop the Column Ganador from the Eurocup Dataframe\n",
    "#Lo hice arriba\n"
   ]
  },
  {
   "cell_type": "code",
   "execution_count": 54,
   "metadata": {},
   "outputs": [],
   "source": [
    "#Rename the column with the actual information to \"Ganador\"\n",
    "#Lo hice arriba"
   ]
  },
  {
   "cell_type": "markdown",
   "metadata": {},
   "source": [
    "As seen in the first look at the dataframes, there was a problem with the columns: Are lower when they should be Capitalized, as in the Euroleague DataFrame. Change the column names to capitalize. \n",
    "\n",
    "is there a quick way to do it?"
   ]
  },
  {
   "cell_type": "code",
   "execution_count": 55,
   "metadata": {},
   "outputs": [],
   "source": [
    "# Your code here: \n"
   ]
  },
  {
   "cell_type": "markdown",
   "metadata": {},
   "source": [
    "Now it is time to just take the useful columns from each data! We will call the result subsets `comp_el` and `comp_ec`\n",
    "\n",
    "REMEMBER: Use the same order of the columns for each dataset. \n",
    "\n",
    "Recommended order: Competition, Localscore, Roadscore, Plusminus, Ganador. **Nothing else is useful**"
   ]
  },
  {
   "cell_type": "code",
   "execution_count": 56,
   "metadata": {},
   "outputs": [],
   "source": [
    "# Your code here: \n",
    "columnas_a_capitalizar = ['ronda', 'local', 'visitante','localscore', 'visitantescore', 'plusminus']"
   ]
  },
  {
   "cell_type": "code",
   "execution_count": 57,
   "metadata": {},
   "outputs": [],
   "source": [
    "for column in columnas_a_capitalizar:\n",
    "    ec_teams_nd_final.rename(columns={column: column.capitalize()}, inplace=True)"
   ]
  },
  {
   "cell_type": "code",
   "execution_count": 58,
   "metadata": {},
   "outputs": [
    {
     "data": {
      "text/html": [
       "<div>\n",
       "<style scoped>\n",
       "    .dataframe tbody tr th:only-of-type {\n",
       "        vertical-align: middle;\n",
       "    }\n",
       "\n",
       "    .dataframe tbody tr th {\n",
       "        vertical-align: top;\n",
       "    }\n",
       "\n",
       "    .dataframe thead th {\n",
       "        text-align: right;\n",
       "    }\n",
       "</style>\n",
       "<table border=\"1\" class=\"dataframe\">\n",
       "  <thead>\n",
       "    <tr style=\"text-align: right;\">\n",
       "      <th></th>\n",
       "      <th>Competition</th>\n",
       "      <th>Phase</th>\n",
       "      <th>Ronda</th>\n",
       "      <th>Dia</th>\n",
       "      <th>Hora</th>\n",
       "      <th>Local</th>\n",
       "      <th>Visitante</th>\n",
       "      <th>Localscore</th>\n",
       "      <th>roadscore</th>\n",
       "      <th>Plusminus</th>\n",
       "      <th>ganador</th>\n",
       "      <th>Winner</th>\n",
       "      <th>Ganador</th>\n",
       "    </tr>\n",
       "  </thead>\n",
       "  <tbody>\n",
       "    <tr>\n",
       "      <th>91</th>\n",
       "      <td>Eurocup</td>\n",
       "      <td>Regular Season</td>\n",
       "      <td>10</td>\n",
       "      <td>2023-12-05</td>\n",
       "      <td>19:30:00</td>\n",
       "      <td>Veolia Towers Hamburg</td>\n",
       "      <td>Prometey Slobozhanske</td>\n",
       "      <td>83</td>\n",
       "      <td>97</td>\n",
       "      <td>-14</td>\n",
       "      <td>Visitante</td>\n",
       "      <td>Prometey Slobozhanske</td>\n",
       "      <td>visitante</td>\n",
       "    </tr>\n",
       "  </tbody>\n",
       "</table>\n",
       "</div>"
      ],
      "text/plain": [
       "   Competition           Phase  Ronda         Dia      Hora  \\\n",
       "91     Eurocup  Regular Season     10  2023-12-05  19:30:00   \n",
       "\n",
       "                    Local              Visitante  Localscore  roadscore  \\\n",
       "91  Veolia Towers Hamburg  Prometey Slobozhanske          83         97   \n",
       "\n",
       "    Plusminus    ganador                 Winner    Ganador  \n",
       "91        -14  Visitante  Prometey Slobozhanske  visitante  "
      ]
     },
     "execution_count": 58,
     "metadata": {},
     "output_type": "execute_result"
    }
   ],
   "source": [
    "ec_teams_nd_final.sample()"
   ]
  },
  {
   "cell_type": "code",
   "execution_count": 59,
   "metadata": {},
   "outputs": [],
   "source": [
    "ec_teams_nd_final.rename(columns={'roadscore': 'Visitantescore'}, inplace=True)"
   ]
  },
  {
   "cell_type": "code",
   "execution_count": 60,
   "metadata": {},
   "outputs": [
    {
     "data": {
      "text/html": [
       "<div>\n",
       "<style scoped>\n",
       "    .dataframe tbody tr th:only-of-type {\n",
       "        vertical-align: middle;\n",
       "    }\n",
       "\n",
       "    .dataframe tbody tr th {\n",
       "        vertical-align: top;\n",
       "    }\n",
       "\n",
       "    .dataframe thead th {\n",
       "        text-align: right;\n",
       "    }\n",
       "</style>\n",
       "<table border=\"1\" class=\"dataframe\">\n",
       "  <thead>\n",
       "    <tr style=\"text-align: right;\">\n",
       "      <th></th>\n",
       "      <th>Competition</th>\n",
       "      <th>Phase</th>\n",
       "      <th>Ronda</th>\n",
       "      <th>Dia</th>\n",
       "      <th>Hora</th>\n",
       "      <th>Local</th>\n",
       "      <th>Visitante</th>\n",
       "      <th>Localscore</th>\n",
       "      <th>Visitantescore</th>\n",
       "      <th>Plusminus</th>\n",
       "      <th>ganador</th>\n",
       "      <th>Winner</th>\n",
       "      <th>Ganador</th>\n",
       "    </tr>\n",
       "  </thead>\n",
       "  <tbody>\n",
       "    <tr>\n",
       "      <th>156</th>\n",
       "      <td>Eurocup</td>\n",
       "      <td>Regular Season</td>\n",
       "      <td>16</td>\n",
       "      <td>2024-01-24</td>\n",
       "      <td>19:30:00</td>\n",
       "      <td>Veolia Towers Hamburg</td>\n",
       "      <td>Cedevita Olimpija Ljubljana</td>\n",
       "      <td>83</td>\n",
       "      <td>114</td>\n",
       "      <td>-31</td>\n",
       "      <td>Visitante</td>\n",
       "      <td>Cedevita Olimpija Ljubljana</td>\n",
       "      <td>visitante</td>\n",
       "    </tr>\n",
       "  </tbody>\n",
       "</table>\n",
       "</div>"
      ],
      "text/plain": [
       "    Competition           Phase  Ronda         Dia      Hora  \\\n",
       "156     Eurocup  Regular Season     16  2024-01-24  19:30:00   \n",
       "\n",
       "                     Local                    Visitante  Localscore  \\\n",
       "156  Veolia Towers Hamburg  Cedevita Olimpija Ljubljana          83   \n",
       "\n",
       "     Visitantescore  Plusminus    ganador                       Winner  \\\n",
       "156             114        -31  Visitante  Cedevita Olimpija Ljubljana   \n",
       "\n",
       "       Ganador  \n",
       "156  visitante  "
      ]
     },
     "execution_count": 60,
     "metadata": {},
     "output_type": "execute_result"
    }
   ],
   "source": [
    "ec_teams_nd_final.sample()"
   ]
  },
  {
   "cell_type": "code",
   "execution_count": 61,
   "metadata": {},
   "outputs": [
    {
     "data": {
      "text/html": [
       "<div>\n",
       "<style scoped>\n",
       "    .dataframe tbody tr th:only-of-type {\n",
       "        vertical-align: middle;\n",
       "    }\n",
       "\n",
       "    .dataframe tbody tr th {\n",
       "        vertical-align: top;\n",
       "    }\n",
       "\n",
       "    .dataframe thead th {\n",
       "        text-align: right;\n",
       "    }\n",
       "</style>\n",
       "<table border=\"1\" class=\"dataframe\">\n",
       "  <thead>\n",
       "    <tr style=\"text-align: right;\">\n",
       "      <th></th>\n",
       "      <th>Competition</th>\n",
       "      <th>Phase</th>\n",
       "      <th>Ronda</th>\n",
       "      <th>Dia</th>\n",
       "      <th>Hora</th>\n",
       "      <th>Local</th>\n",
       "      <th>Visitante</th>\n",
       "      <th>Localscore</th>\n",
       "      <th>Visitantescore</th>\n",
       "      <th>Arbitros</th>\n",
       "      <th>Plusminus</th>\n",
       "      <th>Winner</th>\n",
       "      <th>Ganador</th>\n",
       "    </tr>\n",
       "  </thead>\n",
       "  <tbody>\n",
       "    <tr>\n",
       "      <th>40</th>\n",
       "      <td>Euroleague</td>\n",
       "      <td>Regular Season</td>\n",
       "      <td>5</td>\n",
       "      <td>2023-10-26</td>\n",
       "      <td>21:00:00</td>\n",
       "      <td>Olympiacos Piraeus</td>\n",
       "      <td>Anadolu Efes Istanbul</td>\n",
       "      <td>75</td>\n",
       "      <td>57</td>\n",
       "      <td>['GARCIA, JUAN CARLOS', 'DIFALLAH, MEHDI', 'KO...</td>\n",
       "      <td>18</td>\n",
       "      <td>Olympiacos Piraeus</td>\n",
       "      <td>Local</td>\n",
       "    </tr>\n",
       "  </tbody>\n",
       "</table>\n",
       "</div>"
      ],
      "text/plain": [
       "   Competition           Phase  Ronda         Dia      Hora  \\\n",
       "40  Euroleague  Regular Season      5  2023-10-26  21:00:00   \n",
       "\n",
       "                 Local              Visitante  Localscore  Visitantescore  \\\n",
       "40  Olympiacos Piraeus  Anadolu Efes Istanbul          75              57   \n",
       "\n",
       "                                             Arbitros  Plusminus  \\\n",
       "40  ['GARCIA, JUAN CARLOS', 'DIFALLAH, MEHDI', 'KO...         18   \n",
       "\n",
       "                Winner Ganador  \n",
       "40  Olympiacos Piraeus   Local  "
      ]
     },
     "execution_count": 61,
     "metadata": {},
     "output_type": "execute_result"
    }
   ],
   "source": [
    "elteams.sample()"
   ]
  },
  {
   "cell_type": "markdown",
   "metadata": {},
   "source": [
    "Time to concatenate them both! Create a concat of both Dfs, called `competition`"
   ]
  },
  {
   "cell_type": "code",
   "execution_count": 62,
   "metadata": {},
   "outputs": [],
   "source": [
    "# Your code here: \n",
    "comp_el=elteams[[\"Competition\",\"Localscore\", \"Visitantescore\", \"Plusminus\", \"Ganador\"]]"
   ]
  },
  {
   "cell_type": "code",
   "execution_count": 63,
   "metadata": {},
   "outputs": [],
   "source": [
    "comp_ec=ec_teams_nd_final[[\"Competition\",\"Localscore\", \"Visitantescore\", \"Plusminus\", \"Ganador\"]]"
   ]
  },
  {
   "cell_type": "code",
   "execution_count": 64,
   "metadata": {},
   "outputs": [
    {
     "data": {
      "text/html": [
       "<div>\n",
       "<style scoped>\n",
       "    .dataframe tbody tr th:only-of-type {\n",
       "        vertical-align: middle;\n",
       "    }\n",
       "\n",
       "    .dataframe tbody tr th {\n",
       "        vertical-align: top;\n",
       "    }\n",
       "\n",
       "    .dataframe thead th {\n",
       "        text-align: right;\n",
       "    }\n",
       "</style>\n",
       "<table border=\"1\" class=\"dataframe\">\n",
       "  <thead>\n",
       "    <tr style=\"text-align: right;\">\n",
       "      <th></th>\n",
       "      <th>Competition</th>\n",
       "      <th>Localscore</th>\n",
       "      <th>Visitantescore</th>\n",
       "      <th>Plusminus</th>\n",
       "      <th>Ganador</th>\n",
       "    </tr>\n",
       "  </thead>\n",
       "  <tbody>\n",
       "    <tr>\n",
       "      <th>89</th>\n",
       "      <td>Eurocup</td>\n",
       "      <td>97</td>\n",
       "      <td>70</td>\n",
       "      <td>27</td>\n",
       "      <td>local</td>\n",
       "    </tr>\n",
       "  </tbody>\n",
       "</table>\n",
       "</div>"
      ],
      "text/plain": [
       "   Competition  Localscore  Visitantescore  Plusminus Ganador\n",
       "89     Eurocup          97              70         27   local"
      ]
     },
     "execution_count": 64,
     "metadata": {},
     "output_type": "execute_result"
    }
   ],
   "source": [
    "comp_ec.sample()"
   ]
  },
  {
   "cell_type": "code",
   "execution_count": 65,
   "metadata": {},
   "outputs": [
    {
     "data": {
      "text/html": [
       "<div>\n",
       "<style scoped>\n",
       "    .dataframe tbody tr th:only-of-type {\n",
       "        vertical-align: middle;\n",
       "    }\n",
       "\n",
       "    .dataframe tbody tr th {\n",
       "        vertical-align: top;\n",
       "    }\n",
       "\n",
       "    .dataframe thead th {\n",
       "        text-align: right;\n",
       "    }\n",
       "</style>\n",
       "<table border=\"1\" class=\"dataframe\">\n",
       "  <thead>\n",
       "    <tr style=\"text-align: right;\">\n",
       "      <th></th>\n",
       "      <th>Competition</th>\n",
       "      <th>Localscore</th>\n",
       "      <th>Visitantescore</th>\n",
       "      <th>Plusminus</th>\n",
       "      <th>Ganador</th>\n",
       "    </tr>\n",
       "  </thead>\n",
       "  <tbody>\n",
       "    <tr>\n",
       "      <th>76</th>\n",
       "      <td>Euroleague</td>\n",
       "      <td>74</td>\n",
       "      <td>73</td>\n",
       "      <td>1</td>\n",
       "      <td>Local</td>\n",
       "    </tr>\n",
       "  </tbody>\n",
       "</table>\n",
       "</div>"
      ],
      "text/plain": [
       "   Competition  Localscore  Visitantescore  Plusminus Ganador\n",
       "76  Euroleague          74              73          1   Local"
      ]
     },
     "execution_count": 65,
     "metadata": {},
     "output_type": "execute_result"
    }
   ],
   "source": [
    "comp_el.sample()"
   ]
  },
  {
   "cell_type": "code",
   "execution_count": 66,
   "metadata": {},
   "outputs": [],
   "source": [
    "competition=pd.concat([comp_el, comp_ec], axis=0, ignore_index=True)"
   ]
  },
  {
   "cell_type": "code",
   "execution_count": 67,
   "metadata": {},
   "outputs": [
    {
     "data": {
      "text/html": [
       "<div>\n",
       "<style scoped>\n",
       "    .dataframe tbody tr th:only-of-type {\n",
       "        vertical-align: middle;\n",
       "    }\n",
       "\n",
       "    .dataframe tbody tr th {\n",
       "        vertical-align: top;\n",
       "    }\n",
       "\n",
       "    .dataframe thead th {\n",
       "        text-align: right;\n",
       "    }\n",
       "</style>\n",
       "<table border=\"1\" class=\"dataframe\">\n",
       "  <thead>\n",
       "    <tr style=\"text-align: right;\">\n",
       "      <th></th>\n",
       "      <th>Competition</th>\n",
       "      <th>Localscore</th>\n",
       "      <th>Visitantescore</th>\n",
       "      <th>Plusminus</th>\n",
       "      <th>Ganador</th>\n",
       "    </tr>\n",
       "  </thead>\n",
       "  <tbody>\n",
       "    <tr>\n",
       "      <th>0</th>\n",
       "      <td>Euroleague</td>\n",
       "      <td>94</td>\n",
       "      <td>73</td>\n",
       "      <td>21</td>\n",
       "      <td>Local</td>\n",
       "    </tr>\n",
       "    <tr>\n",
       "      <th>1</th>\n",
       "      <td>Euroleague</td>\n",
       "      <td>96</td>\n",
       "      <td>81</td>\n",
       "      <td>15</td>\n",
       "      <td>Local</td>\n",
       "    </tr>\n",
       "    <tr>\n",
       "      <th>2</th>\n",
       "      <td>Euroleague</td>\n",
       "      <td>79</td>\n",
       "      <td>82</td>\n",
       "      <td>-3</td>\n",
       "      <td>Visitante</td>\n",
       "    </tr>\n",
       "    <tr>\n",
       "      <th>3</th>\n",
       "      <td>Euroleague</td>\n",
       "      <td>80</td>\n",
       "      <td>68</td>\n",
       "      <td>12</td>\n",
       "      <td>Local</td>\n",
       "    </tr>\n",
       "    <tr>\n",
       "      <th>4</th>\n",
       "      <td>Euroleague</td>\n",
       "      <td>91</td>\n",
       "      <td>74</td>\n",
       "      <td>17</td>\n",
       "      <td>Local</td>\n",
       "    </tr>\n",
       "  </tbody>\n",
       "</table>\n",
       "</div>"
      ],
      "text/plain": [
       "  Competition  Localscore  Visitantescore  Plusminus    Ganador\n",
       "0  Euroleague          94              73         21      Local\n",
       "1  Euroleague          96              81         15      Local\n",
       "2  Euroleague          79              82         -3  Visitante\n",
       "3  Euroleague          80              68         12      Local\n",
       "4  Euroleague          91              74         17      Local"
      ]
     },
     "execution_count": 67,
     "metadata": {},
     "output_type": "execute_result"
    }
   ],
   "source": [
    "competition.head()"
   ]
  },
  {
   "cell_type": "code",
   "execution_count": 70,
   "metadata": {},
   "outputs": [
    {
     "data": {
      "text/html": [
       "<div>\n",
       "<style scoped>\n",
       "    .dataframe tbody tr th:only-of-type {\n",
       "        vertical-align: middle;\n",
       "    }\n",
       "\n",
       "    .dataframe tbody tr th {\n",
       "        vertical-align: top;\n",
       "    }\n",
       "\n",
       "    .dataframe thead th {\n",
       "        text-align: right;\n",
       "    }\n",
       "</style>\n",
       "<table border=\"1\" class=\"dataframe\">\n",
       "  <thead>\n",
       "    <tr style=\"text-align: right;\">\n",
       "      <th></th>\n",
       "      <th>Competition</th>\n",
       "      <th>Localscore</th>\n",
       "      <th>Visitantescore</th>\n",
       "      <th>Plusminus</th>\n",
       "      <th>Ganador</th>\n",
       "    </tr>\n",
       "  </thead>\n",
       "  <tbody>\n",
       "    <tr>\n",
       "      <th>390</th>\n",
       "      <td>Eurocup</td>\n",
       "      <td>64</td>\n",
       "      <td>68</td>\n",
       "      <td>-4</td>\n",
       "      <td>Visitante</td>\n",
       "    </tr>\n",
       "    <tr>\n",
       "      <th>391</th>\n",
       "      <td>Eurocup</td>\n",
       "      <td>85</td>\n",
       "      <td>92</td>\n",
       "      <td>-7</td>\n",
       "      <td>Visitante</td>\n",
       "    </tr>\n",
       "    <tr>\n",
       "      <th>392</th>\n",
       "      <td>Eurocup</td>\n",
       "      <td>66</td>\n",
       "      <td>86</td>\n",
       "      <td>-20</td>\n",
       "      <td>Visitante</td>\n",
       "    </tr>\n",
       "    <tr>\n",
       "      <th>393</th>\n",
       "      <td>Eurocup</td>\n",
       "      <td>78</td>\n",
       "      <td>97</td>\n",
       "      <td>-19</td>\n",
       "      <td>Visitante</td>\n",
       "    </tr>\n",
       "    <tr>\n",
       "      <th>394</th>\n",
       "      <td>Eurocup</td>\n",
       "      <td>111</td>\n",
       "      <td>113</td>\n",
       "      <td>-2</td>\n",
       "      <td>Visitante</td>\n",
       "    </tr>\n",
       "  </tbody>\n",
       "</table>\n",
       "</div>"
      ],
      "text/plain": [
       "    Competition  Localscore  Visitantescore  Plusminus    Ganador\n",
       "390     Eurocup          64              68         -4  Visitante\n",
       "391     Eurocup          85              92         -7  Visitante\n",
       "392     Eurocup          66              86        -20  Visitante\n",
       "393     Eurocup          78              97        -19  Visitante\n",
       "394     Eurocup         111             113         -2  Visitante"
      ]
     },
     "execution_count": 70,
     "metadata": {},
     "output_type": "execute_result"
    }
   ],
   "source": [
    "competition.tail()"
   ]
  },
  {
   "cell_type": "code",
   "execution_count": 69,
   "metadata": {},
   "outputs": [],
   "source": [
    "mapeo = {'local': 'Local', 'visitante': 'Visitante'}\n",
    "\n",
    "competition = competition.applymap(lambda x: mapeo.get(x, x))"
   ]
  },
  {
   "cell_type": "markdown",
   "metadata": {},
   "source": [
    "## Well done!\n",
    "\n",
    "Now we have the combination of both competitions in the same dataframe. Is time for the questions you must answer: "
   ]
  },
  {
   "cell_type": "markdown",
   "metadata": {},
   "source": [
    "1. How many matches have been in each competition?\n",
    "2. What are the maximum points that a local team has scored per competition? And the road team as well. \n",
    "3. Do the same operations with the average points (per competition)\n",
    "4. Can you tell me the maximum difference that has been in a match, splitted by competition? \n",
    "    - Careful: The Plusminus is both positive and negative, being negative that the Road Team has achieved the Victory. To have the absolute, create a new Column named Absolut_Plusminus. Remember: np.where is life!\n",
    "5. Also grouped by competition, give me the number of victories of the Locals and the Visitors"
   ]
  },
  {
   "cell_type": "code",
   "execution_count": 71,
   "metadata": {},
   "outputs": [
    {
     "data": {
      "text/plain": [
       "Competition\n",
       "Euroleague    225\n",
       "Eurocup       170\n",
       "Name: count, dtype: int64"
      ]
     },
     "execution_count": 71,
     "metadata": {},
     "output_type": "execute_result"
    }
   ],
   "source": [
    "# 1\n",
    "competition.Competition.value_counts()"
   ]
  },
  {
   "cell_type": "code",
   "execution_count": 72,
   "metadata": {},
   "outputs": [
    {
     "data": {
      "text/html": [
       "<div>\n",
       "<style scoped>\n",
       "    .dataframe tbody tr th:only-of-type {\n",
       "        vertical-align: middle;\n",
       "    }\n",
       "\n",
       "    .dataframe tbody tr th {\n",
       "        vertical-align: top;\n",
       "    }\n",
       "\n",
       "    .dataframe thead th {\n",
       "        text-align: right;\n",
       "    }\n",
       "</style>\n",
       "<table border=\"1\" class=\"dataframe\">\n",
       "  <thead>\n",
       "    <tr style=\"text-align: right;\">\n",
       "      <th></th>\n",
       "      <th>Localscore</th>\n",
       "    </tr>\n",
       "    <tr>\n",
       "      <th>Competition</th>\n",
       "      <th></th>\n",
       "    </tr>\n",
       "  </thead>\n",
       "  <tbody>\n",
       "    <tr>\n",
       "      <th>Eurocup</th>\n",
       "      <td>120</td>\n",
       "    </tr>\n",
       "    <tr>\n",
       "      <th>Euroleague</th>\n",
       "      <td>130</td>\n",
       "    </tr>\n",
       "  </tbody>\n",
       "</table>\n",
       "</div>"
      ],
      "text/plain": [
       "             Localscore\n",
       "Competition            \n",
       "Eurocup             120\n",
       "Euroleague          130"
      ]
     },
     "execution_count": 72,
     "metadata": {},
     "output_type": "execute_result"
    }
   ],
   "source": [
    "# 2\n",
    "competition[[\"Localscore\", \"Competition\"]].groupby(\"Competition\").max()"
   ]
  },
  {
   "cell_type": "code",
   "execution_count": 73,
   "metadata": {},
   "outputs": [
    {
     "data": {
      "text/html": [
       "<div>\n",
       "<style scoped>\n",
       "    .dataframe tbody tr th:only-of-type {\n",
       "        vertical-align: middle;\n",
       "    }\n",
       "\n",
       "    .dataframe tbody tr th {\n",
       "        vertical-align: top;\n",
       "    }\n",
       "\n",
       "    .dataframe thead th {\n",
       "        text-align: right;\n",
       "    }\n",
       "</style>\n",
       "<table border=\"1\" class=\"dataframe\">\n",
       "  <thead>\n",
       "    <tr style=\"text-align: right;\">\n",
       "      <th></th>\n",
       "      <th>Visitantescore</th>\n",
       "    </tr>\n",
       "    <tr>\n",
       "      <th>Competition</th>\n",
       "      <th></th>\n",
       "    </tr>\n",
       "  </thead>\n",
       "  <tbody>\n",
       "    <tr>\n",
       "      <th>Eurocup</th>\n",
       "      <td>114</td>\n",
       "    </tr>\n",
       "    <tr>\n",
       "      <th>Euroleague</th>\n",
       "      <td>126</td>\n",
       "    </tr>\n",
       "  </tbody>\n",
       "</table>\n",
       "</div>"
      ],
      "text/plain": [
       "             Visitantescore\n",
       "Competition                \n",
       "Eurocup                 114\n",
       "Euroleague              126"
      ]
     },
     "execution_count": 73,
     "metadata": {},
     "output_type": "execute_result"
    }
   ],
   "source": [
    "competition[[\"Visitantescore\", \"Competition\"]].groupby(\"Competition\").max()"
   ]
  },
  {
   "cell_type": "code",
   "execution_count": 74,
   "metadata": {},
   "outputs": [
    {
     "data": {
      "text/html": [
       "<div>\n",
       "<style scoped>\n",
       "    .dataframe tbody tr th:only-of-type {\n",
       "        vertical-align: middle;\n",
       "    }\n",
       "\n",
       "    .dataframe tbody tr th {\n",
       "        vertical-align: top;\n",
       "    }\n",
       "\n",
       "    .dataframe thead th {\n",
       "        text-align: right;\n",
       "    }\n",
       "</style>\n",
       "<table border=\"1\" class=\"dataframe\">\n",
       "  <thead>\n",
       "    <tr style=\"text-align: right;\">\n",
       "      <th></th>\n",
       "      <th>Localscore</th>\n",
       "    </tr>\n",
       "    <tr>\n",
       "      <th>Competition</th>\n",
       "      <th></th>\n",
       "    </tr>\n",
       "  </thead>\n",
       "  <tbody>\n",
       "    <tr>\n",
       "      <th>Eurocup</th>\n",
       "      <td>85.24</td>\n",
       "    </tr>\n",
       "    <tr>\n",
       "      <th>Euroleague</th>\n",
       "      <td>83.28</td>\n",
       "    </tr>\n",
       "  </tbody>\n",
       "</table>\n",
       "</div>"
      ],
      "text/plain": [
       "             Localscore\n",
       "Competition            \n",
       "Eurocup           85.24\n",
       "Euroleague        83.28"
      ]
     },
     "execution_count": 74,
     "metadata": {},
     "output_type": "execute_result"
    }
   ],
   "source": [
    "# 3\n",
    "competition[[\"Localscore\", \"Competition\"]].groupby(\"Competition\").mean().round(2)\n",
    "\n",
    "#hacer distribucion de los puntos, darle contexto a la respuesta, para responder una pregunta que grafico la acompañaria"
   ]
  },
  {
   "cell_type": "code",
   "execution_count": 75,
   "metadata": {},
   "outputs": [
    {
     "data": {
      "text/html": [
       "<div>\n",
       "<style scoped>\n",
       "    .dataframe tbody tr th:only-of-type {\n",
       "        vertical-align: middle;\n",
       "    }\n",
       "\n",
       "    .dataframe tbody tr th {\n",
       "        vertical-align: top;\n",
       "    }\n",
       "\n",
       "    .dataframe thead th {\n",
       "        text-align: right;\n",
       "    }\n",
       "</style>\n",
       "<table border=\"1\" class=\"dataframe\">\n",
       "  <thead>\n",
       "    <tr style=\"text-align: right;\">\n",
       "      <th></th>\n",
       "      <th>Visitantescore</th>\n",
       "    </tr>\n",
       "    <tr>\n",
       "      <th>Competition</th>\n",
       "      <th></th>\n",
       "    </tr>\n",
       "  </thead>\n",
       "  <tbody>\n",
       "    <tr>\n",
       "      <th>Eurocup</th>\n",
       "      <td>83.96</td>\n",
       "    </tr>\n",
       "    <tr>\n",
       "      <th>Euroleague</th>\n",
       "      <td>79.17</td>\n",
       "    </tr>\n",
       "  </tbody>\n",
       "</table>\n",
       "</div>"
      ],
      "text/plain": [
       "             Visitantescore\n",
       "Competition                \n",
       "Eurocup               83.96\n",
       "Euroleague            79.17"
      ]
     },
     "execution_count": 75,
     "metadata": {},
     "output_type": "execute_result"
    }
   ],
   "source": [
    "competition[[\"Visitantescore\", \"Competition\"]].groupby(\"Competition\").mean().round(2)"
   ]
  },
  {
   "cell_type": "code",
   "execution_count": 76,
   "metadata": {},
   "outputs": [],
   "source": [
    "# 4\n",
    "competition['Plusminusabsolute'] = np.where(competition['Plusminus'] >= 0, competition['Plusminus'], -competition['Plusminus'])"
   ]
  },
  {
   "cell_type": "code",
   "execution_count": 77,
   "metadata": {},
   "outputs": [
    {
     "data": {
      "text/html": [
       "<div>\n",
       "<style scoped>\n",
       "    .dataframe tbody tr th:only-of-type {\n",
       "        vertical-align: middle;\n",
       "    }\n",
       "\n",
       "    .dataframe tbody tr th {\n",
       "        vertical-align: top;\n",
       "    }\n",
       "\n",
       "    .dataframe thead th {\n",
       "        text-align: right;\n",
       "    }\n",
       "</style>\n",
       "<table border=\"1\" class=\"dataframe\">\n",
       "  <thead>\n",
       "    <tr style=\"text-align: right;\">\n",
       "      <th></th>\n",
       "      <th>Plusminusabsolute</th>\n",
       "    </tr>\n",
       "    <tr>\n",
       "      <th>Competition</th>\n",
       "      <th></th>\n",
       "    </tr>\n",
       "  </thead>\n",
       "  <tbody>\n",
       "    <tr>\n",
       "      <th>Eurocup</th>\n",
       "      <td>39</td>\n",
       "    </tr>\n",
       "    <tr>\n",
       "      <th>Euroleague</th>\n",
       "      <td>39</td>\n",
       "    </tr>\n",
       "  </tbody>\n",
       "</table>\n",
       "</div>"
      ],
      "text/plain": [
       "             Plusminusabsolute\n",
       "Competition                   \n",
       "Eurocup                     39\n",
       "Euroleague                  39"
      ]
     },
     "execution_count": 77,
     "metadata": {},
     "output_type": "execute_result"
    }
   ],
   "source": [
    "competition[[\"Plusminusabsolute\", \"Competition\"]].groupby(\"Competition\").max()"
   ]
  },
  {
   "cell_type": "code",
   "execution_count": 78,
   "metadata": {},
   "outputs": [
    {
     "data": {
      "text/html": [
       "<div>\n",
       "<style scoped>\n",
       "    .dataframe tbody tr th:only-of-type {\n",
       "        vertical-align: middle;\n",
       "    }\n",
       "\n",
       "    .dataframe tbody tr th {\n",
       "        vertical-align: top;\n",
       "    }\n",
       "\n",
       "    .dataframe thead th {\n",
       "        text-align: right;\n",
       "    }\n",
       "</style>\n",
       "<table border=\"1\" class=\"dataframe\">\n",
       "  <thead>\n",
       "    <tr style=\"text-align: right;\">\n",
       "      <th>Ganador</th>\n",
       "      <th>Local</th>\n",
       "      <th>Visitante</th>\n",
       "    </tr>\n",
       "    <tr>\n",
       "      <th>Competition</th>\n",
       "      <th></th>\n",
       "      <th></th>\n",
       "    </tr>\n",
       "  </thead>\n",
       "  <tbody>\n",
       "    <tr>\n",
       "      <th>Eurocup</th>\n",
       "      <td>90</td>\n",
       "      <td>80</td>\n",
       "    </tr>\n",
       "    <tr>\n",
       "      <th>Euroleague</th>\n",
       "      <td>150</td>\n",
       "      <td>75</td>\n",
       "    </tr>\n",
       "  </tbody>\n",
       "</table>\n",
       "</div>"
      ],
      "text/plain": [
       "Ganador      Local  Visitante\n",
       "Competition                  \n",
       "Eurocup         90         80\n",
       "Euroleague     150         75"
      ]
     },
     "execution_count": 78,
     "metadata": {},
     "output_type": "execute_result"
    }
   ],
   "source": [
    "# 5\n",
    "pd.crosstab(competition['Competition'], competition['Ganador'])\n",
    "#justo ahora acabo de ver que los resultados de ganador estan en mayuscula y minuscula a diferencia de la competicion. Esto es porque hice el capitalize despues de hacer la limpieza de tablas..."
   ]
  }
 ],
 "metadata": {
  "kernelspec": {
   "display_name": "ironhackk",
   "language": "python",
   "name": "python3"
  },
  "language_info": {
   "codemirror_mode": {
    "name": "ipython",
    "version": 3
   },
   "file_extension": ".py",
   "mimetype": "text/x-python",
   "name": "python",
   "nbconvert_exporter": "python",
   "pygments_lexer": "ipython3",
   "version": "3.11.7"
  }
 },
 "nbformat": 4,
 "nbformat_minor": 2
}
